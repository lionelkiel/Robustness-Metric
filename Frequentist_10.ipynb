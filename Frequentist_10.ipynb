{
 "cells": [
  {
   "cell_type": "code",
   "execution_count": 1,
   "id": "72ccb3f4",
   "metadata": {},
   "outputs": [],
   "source": [
    "%load_ext autoreload\n",
    "%autoreload 2"
   ]
  },
  {
   "cell_type": "code",
   "execution_count": 2,
   "id": "c370eacaa7943bc6",
   "metadata": {
    "ExecuteTime": {
     "end_time": "2023-09-14T15:51:08.127431600Z",
     "start_time": "2023-09-14T15:51:06.149994700Z"
    },
    "collapsed": false
   },
   "outputs": [],
   "source": [
    "import numpy as np\n",
    "import pandas as pd\n",
    "import os\n",
    "import matplotlib.pyplot as plt\n",
    "\n",
    "from Helper.ImportDatasetsFairness import df_epsilon, df_epsilon_crit, networks\n",
    "from Helper.NonParametric import get_quantile, get_quantile_fairness\n"
   ]
  },
  {
   "cell_type": "code",
   "execution_count": null,
   "id": "a448ffab",
   "metadata": {},
   "outputs": [],
   "source": [
    "crit_epsilons_network = {}\n",
    "\n",
    "for network in networks:\n",
    "    # Take all critical epsilons of the test set and put into numpy array\n",
    "    df_for_network = df_epsilon_crit[df_epsilon_crit['network'] == network]\n",
    "    df_for_network = df_for_network[df_for_network['ds'] == 'test']\n",
    "    df_for_network = df_for_network.dropna() # Drop NaN values\n",
    "    crit_epsilons_network[network] = df_for_network['Epsilon'].to_numpy()\n"
   ]
  },
  {
   "cell_type": "code",
   "execution_count": null,
   "id": "02c27457",
   "metadata": {},
   "outputs": [],
   "source": [
    "# two plots next to each other\n",
    "fig, axs = plt.subplots(1, 2, figsize=(15, 5))\n",
    "\n",
    "x1 = np.sort(crit_epsilons)\n",
    "y1 = np.arange(len(x1))/float(len(x1))\n",
    "axs[0].plot(x1, y1, label='Default')\n",
    "\n",
    "x2 = np.sort(np.log(crit_epsilons))\n",
    "y2 = np.arange(len(x2))/float(len(x2))\n",
    "axs[1].plot(x2, y2, label='Log')\n",
    "\n",
    "plt.show()"
   ]
  },
  {
   "cell_type": "code",
   "execution_count": null,
   "id": "61a72892",
   "metadata": {},
   "outputs": [],
   "source": [
    "# Do this for all 3 networks so that the plots are on top of each other\n",
    "fig, axs = plt.subplots(3, 2, figsize=(15, 15))\n",
    "\n",
    "for i, network in enumerate(networks):\n",
    "    x1 = np.sort(crit_epsilons_network[network])\n",
    "    y1 = np.arange(len(x1))/float(len(x1))\n",
    "    axs[i, 0].plot(x1, y1, label='Default ' + network)\n",
    "\n",
    "    x2 = np.sort(np.log(crit_epsilons_network[network]))\n",
    "    y2 = np.arange(len(x2))/float(len(x2))\n",
    "    axs[i, 1].plot(x2, y2, label='Log ' + network)\n",
    "    axs[i, 0].legend()\n",
    "    axs[i, 1].legend()\n"
   ]
  },
  {
   "cell_type": "code",
   "execution_count": 12,
   "id": "da6bd3ef",
   "metadata": {},
   "outputs": [
    {
     "data": {
      "text/plain": [
       "[<matplotlib.lines.Line2D at 0x221ab2e1070>]"
      ]
     },
     "execution_count": 12,
     "metadata": {},
     "output_type": "execute_result"
    },
    {
     "data": {
      "image/png": "[encoded data removed]",
      "text/plain": [
       "<Figure size 640x480 with 1 Axes>"
      ]
     },
     "metadata": {},
     "output_type": "display_data"
    }
   ],
   "source": [
    "# take random samples from gamma distribution\n",
    "from scipy.stats import gamma\n",
    "\n",
    "gamma1 = gamma.rvs(a=1, size=10000)\n",
    "gamma1 = np.sort(np.log(gamma1))\n",
    "gamma2 = gamma.rvs(a=2, size=10000)\n",
    "gamma2 = np.sort(np.log(gamma2))\n",
    "\n",
    "plt.scatter(gamma1, gamma2)\n",
    "\n",
    "# plot diagonal line\n",
    "x = np.linspace(-5, 20, 100)\n",
    "plt.plot(x, x, color='red')"
   ]
  },
  {
   "cell_type": "code",
   "execution_count": null,
   "id": "73370dee",
   "metadata": {},
   "outputs": [],
   "source": [
    "# Q-Q plot\n",
    "# take random samples from normal distribution\n",
    "norm = np.random.lognormal(0, 1, 10000)\n",
    "norm.sort()\n",
    "\n",
    "norm2 = np.random.lognormal(50, 1000, 10000)\n",
    "norm2.sort()\n",
    "\n",
    "plt.scatter(np.log(norm), np.log(norm2))\n",
    "\n",
    "# plot diagonal line\n",
    "x = np.linspace(-5, 5, 100)\n",
    "plt.plot(x, x, color='red')"
   ]
  },
  {
   "cell_type": "code",
   "execution_count": null,
   "id": "9d989b09",
   "metadata": {},
   "outputs": [],
   "source": [
    "# split crit epsilon in things of 200 and then see the quantiles\n",
    "\n",
    "for i in range(10):\n",
    "    print(get_quantile(crit_epsilons[(i)*100:(i+1)*100], 0.05, verbose=True))"
   ]
  },
  {
   "cell_type": "code",
   "execution_count": null,
   "id": "ddde7165",
   "metadata": {},
   "outputs": [],
   "source": [
    "get_quantile(crit_epsilons, 0.05)"
   ]
  },
  {
   "cell_type": "code",
   "execution_count": null,
   "id": "5ec94e8f",
   "metadata": {},
   "outputs": [],
   "source": [
    "# sample a log normal 10000 times\n",
    "log_normal = np.random.lognormal(0, 1, 10000000)"
   ]
  },
  {
   "cell_type": "code",
   "execution_count": null,
   "id": "4c664ab0",
   "metadata": {},
   "outputs": [],
   "source": [
    "# plot empirical cdf\n",
    "x = np.sort(np.log(log_normal))\n",
    "y = np.arange(len(x))/float(len(x))\n",
    "plt.plot(x, y)\n"
   ]
  },
  {
   "cell_type": "code",
   "execution_count": null,
   "id": "d8ea28e7",
   "metadata": {},
   "outputs": [],
   "source": []
  }
 ],
 "metadata": {
  "kernelspec": {
   "display_name": "Python 3",
   "language": "python",
   "name": "python3"
  },
  "language_info": {
   "codemirror_mode": {
    "name": "ipython",
    "version": 3
   },
   "file_extension": ".py",
   "mimetype": "text/x-python",
   "name": "python",
   "nbconvert_exporter": "python",
   "pygments_lexer": "ipython3",
   "version": "3.12.4"
  }
 },
 "nbformat": 4,
 "nbformat_minor": 5
}

{
 "cells": [
  {
   "cell_type": "code",
   "execution_count": 28,
   "id": "72ccb3f4",
   "metadata": {},
   "outputs": [
    {
     "name": "stdout",
     "output_type": "stream",
     "text": [
      "The autoreload extension is already loaded. To reload it, use:\n",
      "  %reload_ext autoreload\n"
     ]
    }
   ],
   "source": [
    "%load_ext autoreload\n",
    "%autoreload 2"
   ]
  },
  {
   "cell_type": "code",
   "execution_count": 29,
   "id": "c370eacaa7943bc6",
   "metadata": {
    "ExecuteTime": {
     "end_time": "2023-09-14T15:51:08.127431600Z",
     "start_time": "2023-09-14T15:51:06.149994700Z"
    },
    "collapsed": false
   },
   "outputs": [],
   "source": [
    "import numpy as np\n",
    "import pandas as pd\n",
    "import os\n",
    "import matplotlib.pyplot as plt\n",
    "\n",
    "from Helper.ImportDatasetsFairness import df_epsilon, df_epsilon_crit, networks\n",
    "from Helper.NonParametric import get_quantile, get_quantile_fairness\n"
   ]
  },
  {
   "cell_type": "code",
   "execution_count": 30,
   "id": "a448ffab",
   "metadata": {},
   "outputs": [],
   "source": [
    "network = networks[0]\n",
    "\n",
    "# Take all critical epsilons of the test set and put into numpy array\n",
    "df_for_network = df_epsilon_crit[df_epsilon_crit['network'] == network]\n",
    "df_for_network = df_for_network[df_for_network['ds'] == 'test']\n",
    "df_for_network = df_for_network.dropna() # Drop NaN values\n",
    "crit_epsilons = df_for_network['Epsilon'].to_numpy()\n",
    "\n"
   ]
  },
  {
   "cell_type": "code",
   "execution_count": 33,
   "id": "9d989b09",
   "metadata": {},
   "outputs": [
    {
     "name": "stdout",
     "output_type": "stream",
     "text": [
      "Indexes: 6, 0, 10\n",
      "(np.float64(0.029), np.float64(0.007), np.float64(0.033))\n",
      "Indexes: 6, 0, 10\n",
      "(np.float64(0.013), np.float64(0.001), np.float64(0.015))\n",
      "Indexes: 6, 0, 10\n",
      "(np.float64(0.013), np.float64(0.001), np.float64(0.017))\n",
      "Indexes: 6, 0, 10\n",
      "(np.float64(0.015), np.float64(0.003), np.float64(0.019))\n",
      "Indexes: 6, 0, 10\n",
      "(np.float64(0.013), np.float64(0.001), np.float64(0.017))\n",
      "Indexes: 6, 0, 10\n",
      "(np.float64(0.013), np.float64(0.001), np.float64(0.019))\n",
      "Indexes: 6, 0, 10\n",
      "(np.float64(0.015), np.float64(0.003), np.float64(0.019))\n",
      "Indexes: 6, 0, 10\n",
      "(np.float64(0.013), np.float64(0.005), np.float64(0.015))\n",
      "Indexes: 6, 0, 10\n",
      "(np.float64(0.019), np.float64(0.009), np.float64(0.025))\n",
      "Indexes: 4, 0, 8\n",
      "(np.float64(0.009), np.float64(0.005), np.float64(0.017))\n"
     ]
    }
   ],
   "source": [
    "# split crit epsilon in things of 200 and then see the quantiles\n",
    "\n",
    "for i in range(10):\n",
    "    print(get_quantile(crit_epsilons[(i)*100:(i+1)*100], 0.05, verbose=True))"
   ]
  },
  {
   "cell_type": "code",
   "execution_count": 32,
   "id": "ddde7165",
   "metadata": {},
   "outputs": [
    {
     "data": {
      "text/plain": [
       "(np.float64(0.013), np.float64(0.009), np.float64(0.013))"
      ]
     },
     "execution_count": 32,
     "metadata": {},
     "output_type": "execute_result"
    }
   ],
   "source": [
    "get_quantile(crit_epsilons, 0.05)"
   ]
  },
  {
   "cell_type": "code",
   "execution_count": null,
   "id": "5ec94e8f",
   "metadata": {},
   "outputs": [],
   "source": []
  }
 ],
 "metadata": {
  "kernelspec": {
   "display_name": "Python 3",
   "language": "python",
   "name": "python3"
  },
  "language_info": {
   "codemirror_mode": {
    "name": "ipython",
    "version": 3
   },
   "file_extension": ".py",
   "mimetype": "text/x-python",
   "name": "python",
   "nbconvert_exporter": "python",
   "pygments_lexer": "ipython3",
   "version": "3.12.4"
  }
 },
 "nbformat": 4,
 "nbformat_minor": 5
}

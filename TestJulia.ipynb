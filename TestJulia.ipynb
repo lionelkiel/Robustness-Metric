{
 "cells": [
  {
   "cell_type": "code",
   "execution_count": 1,
   "metadata": {},
   "outputs": [
    {
     "data": {
      "text/html": [
       "<div><div style = \"float: left;\"><span>5706×6 DataFrame</span></div><div style = \"float: right;\"><span style = \"font-style: italic;\">5681 rows omitted</span></div><div style = \"clear: both;\"></div></div><div class = \"data-frame\" style = \"overflow-x: scroll;\"><table class = \"data-frame\" style = \"margin-bottom: 6px;\"><thead><tr class = \"header\"><th class = \"rowNumber\" style = \"font-weight: bold; text-align: right;\">Row</th><th style = \"text-align: left;\">image</th><th style = \"text-align: left;\">Epsilon</th><th style = \"text-align: left;\">label</th><th style = \"text-align: left;\">runtime</th><th style = \"text-align: left;\">network</th><th style = \"text-align: left;\">ds</th></tr><tr class = \"subheader headerLastRow\"><th class = \"rowNumber\" style = \"font-weight: bold; text-align: right;\"></th><th title = \"Int64\" style = \"text-align: left;\">Int64</th><th title = \"Union{Missing, Float64}\" style = \"text-align: left;\">Float64?</th><th title = \"Int64\" style = \"text-align: left;\">Int64</th><th title = \"Float64\" style = \"text-align: left;\">Float64</th><th title = \"String31\" style = \"text-align: left;\">String31</th><th title = \"String7\" style = \"text-align: left;\">String7</th></tr></thead><tbody><tr><td class = \"rowNumber\" style = \"font-weight: bold; text-align: right;\">1</td><td style = \"text-align: right;\">3</td><td style = \"text-align: right;\">0.057</td><td style = \"text-align: right;\">0</td><td style = \"text-align: right;\">6654.44</td><td style = \"text-align: left;\">mnist-net</td><td style = \"text-align: left;\">test</td></tr><tr><td class = \"rowNumber\" style = \"font-weight: bold; text-align: right;\">2</td><td style = \"text-align: right;\">10</td><td style = \"text-align: right;\">0.067</td><td style = \"text-align: right;\">0</td><td style = \"text-align: right;\">7078.5</td><td style = \"text-align: left;\">mnist-net</td><td style = \"text-align: left;\">test</td></tr><tr><td class = \"rowNumber\" style = \"font-weight: bold; text-align: right;\">3</td><td style = \"text-align: right;\">13</td><td style = \"text-align: right;\">0.077</td><td style = \"text-align: right;\">0</td><td style = \"text-align: right;\">5867.42</td><td style = \"text-align: left;\">mnist-net</td><td style = \"text-align: left;\">test</td></tr><tr><td class = \"rowNumber\" style = \"font-weight: bold; text-align: right;\">4</td><td style = \"text-align: right;\">25</td><td style = \"text-align: right;\">0.063</td><td style = \"text-align: right;\">0</td><td style = \"text-align: right;\">788.483</td><td style = \"text-align: left;\">mnist-net</td><td style = \"text-align: left;\">test</td></tr><tr><td class = \"rowNumber\" style = \"font-weight: bold; text-align: right;\">5</td><td style = \"text-align: right;\">28</td><td style = \"text-align: right;\">0.071</td><td style = \"text-align: right;\">0</td><td style = \"text-align: right;\">7252.96</td><td style = \"text-align: left;\">mnist-net</td><td style = \"text-align: left;\">test</td></tr><tr><td class = \"rowNumber\" style = \"font-weight: bold; text-align: right;\">6</td><td style = \"text-align: right;\">55</td><td style = \"text-align: right;\">0.029</td><td style = \"text-align: right;\">0</td><td style = \"text-align: right;\">241.665</td><td style = \"text-align: left;\">mnist-net</td><td style = \"text-align: left;\">test</td></tr><tr><td class = \"rowNumber\" style = \"font-weight: bold; text-align: right;\">7</td><td style = \"text-align: right;\">69</td><td style = \"text-align: right;\">0.081</td><td style = \"text-align: right;\">0</td><td style = \"text-align: right;\">9953.83</td><td style = \"text-align: left;\">mnist-net</td><td style = \"text-align: left;\">test</td></tr><tr><td class = \"rowNumber\" style = \"font-weight: bold; text-align: right;\">8</td><td style = \"text-align: right;\">71</td><td style = \"text-align: right;\">0.091</td><td style = \"text-align: right;\">0</td><td style = \"text-align: right;\">10617.7</td><td style = \"text-align: left;\">mnist-net</td><td style = \"text-align: left;\">test</td></tr><tr><td class = \"rowNumber\" style = \"font-weight: bold; text-align: right;\">9</td><td style = \"text-align: right;\">101</td><td style = \"text-align: right;\">0.069</td><td style = \"text-align: right;\">0</td><td style = \"text-align: right;\">3545.77</td><td style = \"text-align: left;\">mnist-net</td><td style = \"text-align: left;\">test</td></tr><tr><td class = \"rowNumber\" style = \"font-weight: bold; text-align: right;\">10</td><td style = \"text-align: right;\">126</td><td style = \"text-align: right;\">0.083</td><td style = \"text-align: right;\">0</td><td style = \"text-align: right;\">10075.4</td><td style = \"text-align: left;\">mnist-net</td><td style = \"text-align: left;\">test</td></tr><tr><td class = \"rowNumber\" style = \"font-weight: bold; text-align: right;\">11</td><td style = \"text-align: right;\">136</td><td style = \"text-align: right;\">0.061</td><td style = \"text-align: right;\">0</td><td style = \"text-align: right;\">7232.1</td><td style = \"text-align: left;\">mnist-net</td><td style = \"text-align: left;\">test</td></tr><tr><td class = \"rowNumber\" style = \"font-weight: bold; text-align: right;\">12</td><td style = \"text-align: right;\">148</td><td style = \"text-align: right;\">0.061</td><td style = \"text-align: right;\">0</td><td style = \"text-align: right;\">13629.2</td><td style = \"text-align: left;\">mnist-net</td><td style = \"text-align: left;\">test</td></tr><tr><td class = \"rowNumber\" style = \"font-weight: bold; text-align: right;\">13</td><td style = \"text-align: right;\">157</td><td style = \"text-align: right;\">0.065</td><td style = \"text-align: right;\">0</td><td style = \"text-align: right;\">3559.11</td><td style = \"text-align: left;\">mnist-net</td><td style = \"text-align: left;\">test</td></tr><tr><td style = \"text-align: right;\">&vellip;</td><td style = \"text-align: right;\">&vellip;</td><td style = \"text-align: right;\">&vellip;</td><td style = \"text-align: right;\">&vellip;</td><td style = \"text-align: right;\">&vellip;</td><td style = \"text-align: right;\">&vellip;</td><td style = \"text-align: right;\">&vellip;</td></tr><tr><td class = \"rowNumber\" style = \"font-weight: bold; text-align: right;\">5695</td><td style = \"text-align: right;\">806</td><td style = \"text-align: right;\">0.073</td><td style = \"text-align: right;\">9</td><td style = \"text-align: right;\">18064.2</td><td style = \"text-align: left;\">mnist_relu_4_1024</td><td style = \"text-align: left;\">train</td></tr><tr><td class = \"rowNumber\" style = \"font-weight: bold; text-align: right;\">5696</td><td style = \"text-align: right;\">812</td><td style = \"text-align: right;\">0.079</td><td style = \"text-align: right;\">9</td><td style = \"text-align: right;\">16032.5</td><td style = \"text-align: left;\">mnist_relu_4_1024</td><td style = \"text-align: left;\">train</td></tr><tr><td class = \"rowNumber\" style = \"font-weight: bold; text-align: right;\">5697</td><td style = \"text-align: right;\">826</td><td style = \"text-align: right;\">0.069</td><td style = \"text-align: right;\">9</td><td style = \"text-align: right;\">6795.77</td><td style = \"text-align: left;\">mnist_relu_4_1024</td><td style = \"text-align: left;\">train</td></tr><tr><td class = \"rowNumber\" style = \"font-weight: bold; text-align: right;\">5698</td><td style = \"text-align: right;\">827</td><td style = \"text-align: right;\">0.049</td><td style = \"text-align: right;\">9</td><td style = \"text-align: right;\">10397.0</td><td style = \"text-align: left;\">mnist_relu_4_1024</td><td style = \"text-align: left;\">train</td></tr><tr><td class = \"rowNumber\" style = \"font-weight: bold; text-align: right;\">5699</td><td style = \"text-align: right;\">887</td><td style = \"text-align: right;\">0.059</td><td style = \"text-align: right;\">9</td><td style = \"text-align: right;\">10128.1</td><td style = \"text-align: left;\">mnist_relu_4_1024</td><td style = \"text-align: left;\">train</td></tr><tr><td class = \"rowNumber\" style = \"font-weight: bold; text-align: right;\">5700</td><td style = \"text-align: right;\">900</td><td style = \"text-align: right;\">0.025</td><td style = \"text-align: right;\">9</td><td style = \"text-align: right;\">6728.43</td><td style = \"text-align: left;\">mnist_relu_4_1024</td><td style = \"text-align: left;\">train</td></tr><tr><td class = \"rowNumber\" style = \"font-weight: bold; text-align: right;\">5701</td><td style = \"text-align: right;\">929</td><td style = \"text-align: right;\">0.051</td><td style = \"text-align: right;\">9</td><td style = \"text-align: right;\">10275.7</td><td style = \"text-align: left;\">mnist_relu_4_1024</td><td style = \"text-align: left;\">train</td></tr><tr><td class = \"rowNumber\" style = \"font-weight: bold; text-align: right;\">5702</td><td style = \"text-align: right;\">930</td><td style = \"text-align: right;\">0.065</td><td style = \"text-align: right;\">9</td><td style = \"text-align: right;\">3920.36</td><td style = \"text-align: left;\">mnist_relu_4_1024</td><td style = \"text-align: left;\">train</td></tr><tr><td class = \"rowNumber\" style = \"font-weight: bold; text-align: right;\">5703</td><td style = \"text-align: right;\">932</td><td style = \"text-align: right;\">0.101</td><td style = \"text-align: right;\">9</td><td style = \"text-align: right;\">10991.7</td><td style = \"text-align: left;\">mnist_relu_4_1024</td><td style = \"text-align: left;\">train</td></tr><tr><td class = \"rowNumber\" style = \"font-weight: bold; text-align: right;\">5704</td><td style = \"text-align: right;\">940</td><td style = \"text-align: right;\">0.061</td><td style = \"text-align: right;\">9</td><td style = \"text-align: right;\">13293.2</td><td style = \"text-align: left;\">mnist_relu_4_1024</td><td style = \"text-align: left;\">train</td></tr><tr><td class = \"rowNumber\" style = \"font-weight: bold; text-align: right;\">5705</td><td style = \"text-align: right;\">974</td><td style = \"text-align: right;\">0.025</td><td style = \"text-align: right;\">9</td><td style = \"text-align: right;\">13384.1</td><td style = \"text-align: left;\">mnist_relu_4_1024</td><td style = \"text-align: left;\">train</td></tr><tr><td class = \"rowNumber\" style = \"font-weight: bold; text-align: right;\">5706</td><td style = \"text-align: right;\">980</td><td style = \"text-align: right;\">0.029</td><td style = \"text-align: right;\">9</td><td style = \"text-align: right;\">6633.89</td><td style = \"text-align: left;\">mnist_relu_4_1024</td><td style = \"text-align: left;\">train</td></tr></tbody></table></div>"
      ],
      "text/latex": [
       "\\begin{tabular}{r|cccccc}\n",
       "\t& image & Epsilon & label & runtime & network & ds\\\\\n",
       "\t\\hline\n",
       "\t& Int64 & Float64? & Int64 & Float64 & String31 & String7\\\\\n",
       "\t\\hline\n",
       "\t1 & 3 & 0.057 & 0 & 6654.44 & mnist-net & test \\\\\n",
       "\t2 & 10 & 0.067 & 0 & 7078.5 & mnist-net & test \\\\\n",
       "\t3 & 13 & 0.077 & 0 & 5867.42 & mnist-net & test \\\\\n",
       "\t4 & 25 & 0.063 & 0 & 788.483 & mnist-net & test \\\\\n",
       "\t5 & 28 & 0.071 & 0 & 7252.96 & mnist-net & test \\\\\n",
       "\t6 & 55 & 0.029 & 0 & 241.665 & mnist-net & test \\\\\n",
       "\t7 & 69 & 0.081 & 0 & 9953.83 & mnist-net & test \\\\\n",
       "\t8 & 71 & 0.091 & 0 & 10617.7 & mnist-net & test \\\\\n",
       "\t9 & 101 & 0.069 & 0 & 3545.77 & mnist-net & test \\\\\n",
       "\t10 & 126 & 0.083 & 0 & 10075.4 & mnist-net & test \\\\\n",
       "\t11 & 136 & 0.061 & 0 & 7232.1 & mnist-net & test \\\\\n",
       "\t12 & 148 & 0.061 & 0 & 13629.2 & mnist-net & test \\\\\n",
       "\t13 & 157 & 0.065 & 0 & 3559.11 & mnist-net & test \\\\\n",
       "\t14 & 183 & 0.085 & 0 & 10554.2 & mnist-net & test \\\\\n",
       "\t15 & 188 & 0.055 & 0 & 3615.52 & mnist-net & test \\\\\n",
       "\t16 & 192 & 0.051 & 0 & 6685.27 & mnist-net & test \\\\\n",
       "\t17 & 194 & 0.023 & 0 & 186.302 & mnist-net & test \\\\\n",
       "\t18 & 215 & 0.045 & 0 & 3732.55 & mnist-net & test \\\\\n",
       "\t19 & 246 & 0.077 & 0 & 9634.04 & mnist-net & test \\\\\n",
       "\t20 & 269 & 0.065 & 0 & 3488.68 & mnist-net & test \\\\\n",
       "\t21 & 271 & 0.057 & 0 & 4213.22 & mnist-net & test \\\\\n",
       "\t22 & 294 & 0.043 & 0 & 647.072 & mnist-net & test \\\\\n",
       "\t23 & 296 & 0.085 & 0 & 6040.15 & mnist-net & test \\\\\n",
       "\t24 & 297 & 0.067 & 0 & 6158.97 & mnist-net & test \\\\\n",
       "\t$\\dots$ & $\\dots$ & $\\dots$ & $\\dots$ & $\\dots$ & $\\dots$ & $\\dots$ \\\\\n",
       "\\end{tabular}\n"
      ],
      "text/plain": [
       "\u001b[1m5706×6 DataFrame\u001b[0m\n",
       "\u001b[1m  Row \u001b[0m│\u001b[1m image \u001b[0m\u001b[1m Epsilon  \u001b[0m\u001b[1m label \u001b[0m\u001b[1m runtime   \u001b[0m\u001b[1m network           \u001b[0m\u001b[1m ds      \u001b[0m\n",
       "      │\u001b[90m Int64 \u001b[0m\u001b[90m Float64? \u001b[0m\u001b[90m Int64 \u001b[0m\u001b[90m Float64   \u001b[0m\u001b[90m String31          \u001b[0m\u001b[90m String7 \u001b[0m\n",
       "──────┼───────────────────────────────────────────────────────────────\n",
       "    1 │     3     0.057      0   6654.44   mnist-net          test\n",
       "    2 │    10     0.067      0   7078.5    mnist-net          test\n",
       "    3 │    13     0.077      0   5867.42   mnist-net          test\n",
       "    4 │    25     0.063      0    788.483  mnist-net          test\n",
       "    5 │    28     0.071      0   7252.96   mnist-net          test\n",
       "    6 │    55     0.029      0    241.665  mnist-net          test\n",
       "    7 │    69     0.081      0   9953.83   mnist-net          test\n",
       "    8 │    71     0.091      0  10617.7    mnist-net          test\n",
       "  ⋮   │   ⋮       ⋮        ⋮        ⋮              ⋮             ⋮\n",
       " 5700 │   900     0.025      9   6728.43   mnist_relu_4_1024  train\n",
       " 5701 │   929     0.051      9  10275.7    mnist_relu_4_1024  train\n",
       " 5702 │   930     0.065      9   3920.36   mnist_relu_4_1024  train\n",
       " 5703 │   932     0.101      9  10991.7    mnist_relu_4_1024  train\n",
       " 5704 │   940     0.061      9  13293.2    mnist_relu_4_1024  train\n",
       " 5705 │   974     0.025      9  13384.1    mnist_relu_4_1024  train\n",
       " 5706 │   980     0.029      9   6633.89   mnist_relu_4_1024  train\n",
       "\u001b[36m                                                     5691 rows omitted\u001b[0m"
      ]
     },
     "metadata": {},
     "output_type": "display_data"
    }
   ],
   "source": [
    "using RxInfer\n",
    "using Plots\n",
    "using CSV\n",
    "using DataFrames\n",
    "\n",
    "path = abspath(\"C:\\\\Users\\\\lkiel\\\\PycharmProjects\\\\RobustnessMetric\\\\Datasets\\\\threshold_distributions_fairness\")\n",
    "\n",
    "df_epsilon = DataFrame(CSV.File(joinpath(path, \"df_epsilon_fairness.csv\")))\n",
    "df_epsilon_crit = DataFrame(CSV.File(joinpath(path, \"df_epsilon_crit_fairness.csv\")))"
   ]
  },
  {
   "cell_type": "code",
   "execution_count": null,
   "metadata": {},
   "outputs": [],
   "source": []
  }
 ],
 "metadata": {
  "kernelspec": {
   "display_name": "Julia 1.10.3",
   "language": "julia",
   "name": "julia-1.10"
  },
  "language_info": {
   "file_extension": ".jl",
   "mimetype": "application/julia",
   "name": "julia",
   "version": "1.10.3"
  }
 },
 "nbformat": 4,
 "nbformat_minor": 2
}

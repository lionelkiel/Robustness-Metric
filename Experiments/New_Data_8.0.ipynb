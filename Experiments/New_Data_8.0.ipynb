{
 "cells": [
  {
   "cell_type": "code",
   "execution_count": 1,
   "id": "initial_id",
   "metadata": {
    "ExecuteTime": {
     "end_time": "2024-03-30T20:18:54.047782Z",
     "start_time": "2024-03-30T20:18:49.229372900Z"
    },
    "collapsed": true
   },
   "outputs": [
    {
     "data": {
      "text/plain": [
       "<contextlib.ExitStack at 0x24b76a63b50>"
      ]
     },
     "execution_count": 1,
     "metadata": {},
     "output_type": "execute_result"
    }
   ],
   "source": [
    "import numpy as np\n",
    "import pandas\n",
    "import pandas as pd\n",
    "import matplotlib.pyplot as plt\n",
    "import torch\n",
    "import random\n",
    "from tqdm.notebook import trange, tqdm\n",
    "from time import sleep\n",
    "\n",
    "\n",
    "from Helper.ImportDatasetsFOMLAS import df_epsilon, df_epsilon_crit\n",
    "from Method.calculate_distribution_a import distribution_a\n",
    "plt.ioff()"
   ]
  },
  {
   "cell_type": "markdown",
   "id": "170f3265af4bd73",
   "metadata": {
    "collapsed": false
   },
   "source": [
    "# run for new data"
   ]
  },
  {
   "cell_type": "code",
   "execution_count": 29,
   "id": "a4975f4d26058a82",
   "metadata": {
    "ExecuteTime": {
     "end_time": "2024-03-14T15:48:53.123068900Z",
     "start_time": "2024-03-14T15:48:53.090038300Z"
    },
    "collapsed": false
   },
   "outputs": [],
   "source": [
    "def run(network, ani = False, shuffle = False, step_size_a = 0.001, sigma = 0.05, n_samples = 1000, n_a_samples = 10, uncertainty = 0.001, metrics = False, verbosity = 0):\n",
    "    \n",
    "    # Get the network and test set, then split the images\n",
    "    df_for_network = df_epsilon[df_epsilon['network'] == network]\n",
    "    df_for_network = df_for_network[df_for_network['ds'] == 'test']\n",
    "    df_per_image = [df_for_network[df_for_network['image'] == i] for i in df_for_network['image'].unique()]\n",
    "    df_epsilon_crit_for_network = df_epsilon_crit[df_epsilon_crit['network'] == network]\n",
    "    df_epsilon_crit_for_network = df_epsilon_crit_for_network[df_epsilon_crit_for_network['ds'] == 'test']\n",
    "    \n",
    "    # We find the distribution of 'a' for the following bins, number represents left side of bin\n",
    "    a = torch.arange(step_size_a,0.4,step_size_a)\n",
    "    \n",
    "    # We keep track of the distributions of 'a' and its max probability\n",
    "    distributions_of_a = []\n",
    "    \n",
    "    # We keep track of what bins of 'a' we use\n",
    "    a_bins = []\n",
    "    \n",
    "    # We keep track of the images we use\n",
    "    images = []\n",
    "    \n",
    "    # Initialize D (dataset) and the default value to put in if we don't find elligible epsilons\n",
    "    D = torch.tensor([[],[]],dtype=torch.float32)\n",
    "    default = torch.tensor([[0],[0.4]],dtype=torch.float32)\n",
    "    \n",
    "    if shuffle:\n",
    "        random.shuffle(df_per_image)\n",
    "    \n",
    "    total_runtime = 0\n",
    "    for i,image in enumerate(df_per_image):\n",
    "        \n",
    "        img = image['image'].values[0]\n",
    "        images.append(img)\n",
    "        \n",
    "        # We keep track of the runtime\n",
    "        # check if we have the runtime\n",
    "        if img not in df_epsilon_crit_for_network['image'].values:\n",
    "            print(f\"image {i+1}\")\n",
    "            print(f\"image {img} not in df_epsilon_crit_for_network\")\n",
    "            runtime = df_for_network[df_for_network['image'] == img]['runtime'].sum()\n",
    "        else:\n",
    "            runtime = df_epsilon_crit_for_network[df_epsilon_crit_for_network['image'] == img]['runtime'].values[0]\n",
    "        total_runtime += runtime\n",
    "            \n",
    "        # We put in the default value first and then change it to the lower and upper bound of the image\n",
    "        D = torch.cat((D,default),dim=1)\n",
    "        \n",
    "        # unsat means epsilon >, thus lower bound\n",
    "        lower_bound = np.max(image[image['result']=='unsat']['epsilon'].values, initial = default[0,-1])\n",
    "        # sat means epsilon <, thus upper bound\n",
    "        upper_bound = np.min(image[image['result']=='sat']['epsilon'].values, initial = default[1,-1])\n",
    "        D[0,-1] = lower_bound\n",
    "        D[1,-1] = upper_bound\n",
    "        \n",
    "        # print(f\"image {i+1}\")\n",
    "        \n",
    "        # Sample in our bins of 'a', 100 samples are taken per bin\n",
    "        a_samples = torch.rand(n_a_samples,*a.shape)*step_size_a+a\n",
    "        # We calculate the distribution of each sample\n",
    "        distr = distribution_a(a_samples,D,sigma,n_samples)\n",
    "        max_distr = torch.max(distr)\n",
    "        distributions_of_a.append(distr)\n",
    "        a_bins.append(a)\n",
    "        \n",
    "        # If the distribution of 'a' becomes 0 we stop the search\n",
    "        if torch.isnan(max_distr):\n",
    "            distributions_of_a.pop()\n",
    "            a_bins.pop()\n",
    "            images.pop()\n",
    "            total_runtime -= runtime\n",
    "            if verbosity > 0:\n",
    "                print('found: surrogate model too strict')\n",
    "            break\n",
    "        \n",
    "        # We adapt the area in which we search for 'a' based on the distribution\n",
    "        indices = torch.where(distr != 0)[0]\n",
    "        left_bound_ind = torch.min(indices)\n",
    "        right_bound_ind = torch.max(indices)\n",
    "        \n",
    "        # We update the bounds\n",
    "        left_bound = a[left_bound_ind]\n",
    "        right_bound = a[right_bound_ind]\n",
    "        \n",
    "        # We check if the required uncertainty has been reached\n",
    "        if right_bound-left_bound < 2*uncertainty:\n",
    "            print('found: uncertainty reached')\n",
    "            break\n",
    "        \n",
    "        # We update the range of 'a' we search in\n",
    "        step_size_a = (right_bound-left_bound)/200\n",
    "        a = torch.arange(left_bound,right_bound,step_size_a)\n",
    "        \n",
    "        # make plots\n",
    "        # fig, ax = plt.subplots()\n",
    "        # ax.scatter(final_bins, final_distribution)\n",
    "        # ax.axvline(quantile, color='r')\n",
    "        # ax.axvline(quantile-0.002, color='g')\n",
    "        \n",
    "    \n",
    "    if ani:\n",
    "        fig, ax = plt.subplots()\n",
    "    \n",
    "        ax.set_ylim(0, 0.1)\n",
    "        ax.set_xlim(0,0.2)\n",
    "        line, = ax.plot(a, np.tile(0,len(a)))\n",
    "        \n",
    "        \n",
    "        def animate(i):\n",
    "            line.set_ydata(distributions_of_a[i])  # update the data.\n",
    "            line.set_xdata(a_bins[i])\n",
    "            return line,\n",
    "        \n",
    "        \n",
    "        ani = animation.FuncAnimation(\n",
    "            fig, animate, frames=len(distributions_of_a), interval=20, blit=True, save_count=50)\n",
    "        \n",
    "        # To save the animation, use e.g.\n",
    "        #\n",
    "        ani.save(network+\".gif\")\n",
    "        \n",
    "    else:\n",
    "        return distributions_of_a, a_bins, total_runtime, images"
   ]
  },
  {
   "cell_type": "code",
   "execution_count": 25,
   "id": "de72adacc1e72af7",
   "metadata": {
    "ExecuteTime": {
     "end_time": "2024-03-14T15:47:11.440285400Z",
     "start_time": "2024-03-14T15:47:11.365869600Z"
    },
    "collapsed": false
   },
   "outputs": [],
   "source": [
    "# drop mnist-net, mnist-net_256x4 and mnist_relu_4_1024 from df's\n",
    "df_epsilon = df_epsilon[df_epsilon['network'] != 'mnist-net']\n",
    "df_epsilon = df_epsilon[df_epsilon['network'] != 'mnist-net_256x4']\n",
    "df_epsilon = df_epsilon[df_epsilon['network'] != 'mnist_relu_4_1024']\n",
    "\n",
    "df_epsilon_crit = df_epsilon_crit[df_epsilon_crit['network'] != 'mnist-net']\n",
    "df_epsilon_crit = df_epsilon_crit[df_epsilon_crit['network'] != 'mnist-net_256x4']\n",
    "df_epsilon_crit = df_epsilon_crit[df_epsilon_crit['network'] != 'mnist_relu_4_1024']"
   ]
  },
  {
   "cell_type": "code",
   "execution_count": 30,
   "id": "b220a14bac2c2879",
   "metadata": {
    "ExecuteTime": {
     "end_time": "2024-03-14T15:49:01.458857400Z",
     "start_time": "2024-03-14T15:49:01.441022900Z"
    },
    "collapsed": false
   },
   "outputs": [],
   "source": [
    "networks = df_epsilon['network'].unique()"
   ]
  },
  {
   "cell_type": "code",
   "execution_count": 31,
   "id": "a7cfdc3f1a19bd2a",
   "metadata": {
    "ExecuteTime": {
     "end_time": "2024-03-14T15:49:05.523197600Z",
     "start_time": "2024-03-14T15:49:05.483161200Z"
    },
    "collapsed": false
   },
   "outputs": [
    {
     "data": {
      "text/plain": [
       "9"
      ]
     },
     "execution_count": 31,
     "metadata": {},
     "output_type": "execute_result"
    }
   ],
   "source": [
    "len(networks)"
   ]
  },
  {
   "cell_type": "code",
   "execution_count": 32,
   "id": "8bc565db52e533cf",
   "metadata": {
    "ExecuteTime": {
     "end_time": "2024-03-14T17:03:52.867966200Z",
     "start_time": "2024-03-14T15:49:06.531180400Z"
    },
    "collapsed": false
   },
   "outputs": [
    {
     "name": "stdout",
     "output_type": "stream",
     "text": [
      "network 1: mnist-net_256x2\n"
     ]
    },
    {
     "data": {
      "application/vnd.jupyter.widget-view+json": {
       "model_id": "3c14671850404e6b9bc0be6655ace921",
       "version_major": 2,
       "version_minor": 0
      },
      "text/plain": [
       "network mnist-net_256x2 runs:   0%|          | 0/100 [00:00<?, ?it/s]"
      ]
     },
     "metadata": {},
     "output_type": "display_data"
    },
    {
     "name": "stdout",
     "output_type": "stream",
     "text": [
      "found: uncertainty reached\n",
      "found: uncertainty reached\n",
      "found: uncertainty reached\n",
      "found: uncertainty reached\n",
      "found: uncertainty reached\n",
      "found: uncertainty reached\n",
      "found: uncertainty reached\n",
      "found: uncertainty reached\n",
      "found: uncertainty reached\n",
      "found: uncertainty reached\n",
      "network 2: mnist-net_256x6\n"
     ]
    },
    {
     "data": {
      "application/vnd.jupyter.widget-view+json": {
       "model_id": "94483b7ddb81494dafa9f7c82e9b8cec",
       "version_major": 2,
       "version_minor": 0
      },
      "text/plain": [
       "network mnist-net_256x6 runs:   0%|          | 0/100 [00:00<?, ?it/s]"
      ]
     },
     "metadata": {},
     "output_type": "display_data"
    },
    {
     "name": "stdout",
     "output_type": "stream",
     "text": [
      "found: uncertainty reached\n",
      "network 3: mnist_nn\n"
     ]
    },
    {
     "data": {
      "application/vnd.jupyter.widget-view+json": {
       "model_id": "bc1e4cc329d642dd939134b4dd91f64b",
       "version_major": 2,
       "version_minor": 0
      },
      "text/plain": [
       "network mnist_nn runs:   0%|          | 0/100 [00:00<?, ?it/s]"
      ]
     },
     "metadata": {},
     "output_type": "display_data"
    },
    {
     "name": "stdout",
     "output_type": "stream",
     "text": [
      "found: uncertainty reached\n",
      "found: uncertainty reached\n",
      "found: uncertainty reached\n",
      "found: uncertainty reached\n",
      "found: uncertainty reached\n",
      "found: uncertainty reached\n",
      "found: uncertainty reached\n",
      "found: uncertainty reached\n",
      "network 4: mnist_relu_3_100\n"
     ]
    },
    {
     "data": {
      "application/vnd.jupyter.widget-view+json": {
       "model_id": "ad00573e3ac24a3b85c765ea12ce0e52",
       "version_major": 2,
       "version_minor": 0
      },
      "text/plain": [
       "network mnist_relu_3_100 runs:   0%|          | 0/100 [00:00<?, ?it/s]"
      ]
     },
     "metadata": {},
     "output_type": "display_data"
    },
    {
     "name": "stdout",
     "output_type": "stream",
     "text": [
      "found: uncertainty reached\n",
      "found: uncertainty reached\n",
      "found: uncertainty reached\n",
      "found: uncertainty reached\n",
      "network 5: mnist_relu_3_50\n"
     ]
    },
    {
     "data": {
      "application/vnd.jupyter.widget-view+json": {
       "model_id": "324a8816075e44b3bf2cffbdcecf5ff1",
       "version_major": 2,
       "version_minor": 0
      },
      "text/plain": [
       "network mnist_relu_3_50 runs:   0%|          | 0/100 [00:00<?, ?it/s]"
      ]
     },
     "metadata": {},
     "output_type": "display_data"
    },
    {
     "name": "stdout",
     "output_type": "stream",
     "text": [
      "found: uncertainty reached\n",
      "found: uncertainty reached\n",
      "found: uncertainty reached\n",
      "network 6: mnist_relu_6_100\n"
     ]
    },
    {
     "data": {
      "application/vnd.jupyter.widget-view+json": {
       "model_id": "c9c1036ca0464317b473003f4bd000b6",
       "version_major": 2,
       "version_minor": 0
      },
      "text/plain": [
       "network mnist_relu_6_100 runs:   0%|          | 0/100 [00:00<?, ?it/s]"
      ]
     },
     "metadata": {},
     "output_type": "display_data"
    },
    {
     "name": "stdout",
     "output_type": "stream",
     "text": [
      "found: uncertainty reached\n",
      "network 7: mnist_relu_6_200\n"
     ]
    },
    {
     "data": {
      "application/vnd.jupyter.widget-view+json": {
       "model_id": "ff64a8504b11496a8e64ac8c2d7d990d",
       "version_major": 2,
       "version_minor": 0
      },
      "text/plain": [
       "network mnist_relu_6_200 runs:   0%|          | 0/100 [00:00<?, ?it/s]"
      ]
     },
     "metadata": {},
     "output_type": "display_data"
    },
    {
     "name": "stdout",
     "output_type": "stream",
     "text": [
      "found: uncertainty reached\n",
      "network 8: mnist_relu_9_100\n"
     ]
    },
    {
     "data": {
      "application/vnd.jupyter.widget-view+json": {
       "model_id": "b7b67f5487774a18b2de66f69612b6d0",
       "version_major": 2,
       "version_minor": 0
      },
      "text/plain": [
       "network mnist_relu_9_100 runs:   0%|          | 0/100 [00:00<?, ?it/s]"
      ]
     },
     "metadata": {},
     "output_type": "display_data"
    },
    {
     "name": "stdout",
     "output_type": "stream",
     "text": [
      "found: uncertainty reached\n",
      "found: uncertainty reached\n",
      "network 9: mnist_relu_9_200\n"
     ]
    },
    {
     "data": {
      "application/vnd.jupyter.widget-view+json": {
       "model_id": "bcf6477fae114de890c82a3daba8c2c6",
       "version_major": 2,
       "version_minor": 0
      },
      "text/plain": [
       "network mnist_relu_9_200 runs:   0%|          | 0/100 [00:00<?, ?it/s]"
      ]
     },
     "metadata": {},
     "output_type": "display_data"
    },
    {
     "name": "stdout",
     "output_type": "stream",
     "text": [
      "found: uncertainty reached\n"
     ]
    }
   ],
   "source": [
    "# save final distributions and bins\n",
    "distrs = []\n",
    "\n",
    "i=0\n",
    "for network in networks:\n",
    "    i+=1\n",
    "    print(f\"network {i}: {network}\")\n",
    "    for runs in tqdm(range(100), desc = f'network {network} runs'):\n",
    "        \n",
    "        distr, a_bins, runtime, images = run(network, metrics=True, shuffle = True)\n",
    "        distrs.append([network, a_bins[-1], distr[-1], runtime, images, runs])\n",
    "\n",
    "\n",
    "# Put the distribution with the bins in  adataframe\n",
    "distrs = pd.DataFrame(distrs, columns=['network', 'bins', 'distribution', 'runtime', 'images', 'run'])\n",
    "\n",
    "distrs.to_pickle('Datasets\\distributions_fomlas.pkl')"
   ]
  },
  {
   "cell_type": "code",
   "execution_count": 53,
   "id": "21607da562f8c316",
   "metadata": {
    "ExecuteTime": {
     "end_time": "2024-03-07T15:17:18.039496600Z",
     "start_time": "2024-03-07T15:17:18.000456700Z"
    },
    "collapsed": false
   },
   "outputs": [],
   "source": [
    "no_runtime_images_net_2 = ['677','1022']\n",
    "no_runtime_images_net_3 = ['548']\n",
    "\n",
    "# check runtimes for those images\n",
    "dat = df_epsilon[df_epsilon['network'] == networks[1]]\n",
    "dat = dat[dat['ds'] == 'test']\n",
    "dat = dat[dat['image'] == 1022]\n",
    "dat_crit = df_epsilon_crit[df_epsilon_crit['network'] == networks[1]]\n",
    "dat_crit = dat_crit[dat_crit['ds'] == 'test']\n",
    "dat_crit = dat_crit[dat_crit['image'] == 1022]\n",
    "\n",
    "runtime_extra_net_2 = dat['runtime'].sum()\n",
    "\n",
    "dat = df_epsilon[df_epsilon['network'] == networks[2]]\n",
    "dat = dat[dat['ds'] == 'test']\n",
    "dat = dat[dat['image'] == 548]\n",
    "dat_crit = df_epsilon_crit[df_epsilon_crit['network'] == networks[2]]\n",
    "dat_crit = dat_crit[dat_crit['ds'] == 'test']\n",
    "dat_crit = dat_crit[dat_crit['image'] == 548]\n",
    "\n",
    "runtime_extra_net_3 = dat['runtime'].sum()\n",
    "\n",
    "# check runtimes for those images\n",
    "dat = df_epsilon[df_epsilon['network'] == networks[1]]\n",
    "dat = dat[dat['ds'] == 'test']\n",
    "dat = dat[dat['image'] == 677]\n",
    "dat_crit = df_epsilon_crit[df_epsilon_crit['network'] == networks[1]]\n",
    "dat_crit = dat_crit[dat_crit['ds'] == 'test']\n",
    "dat_crit = dat_crit[dat_crit['image'] == 677]\n",
    "\n",
    "runtime_extra_net_2_2 = dat['runtime'].sum()"
   ]
  },
  {
   "cell_type": "code",
   "execution_count": 80,
   "id": "cf0037f327b694b0",
   "metadata": {
    "ExecuteTime": {
     "end_time": "2024-03-07T15:31:30.256658300Z",
     "start_time": "2024-03-07T15:31:30.152655900Z"
    },
    "collapsed": false
   },
   "outputs": [
    {
     "name": "stdout",
     "output_type": "stream",
     "text": [
      "network mnist-net_256x4 run 9 has image 1022\n",
      "network mnist-net_256x4 run 29 has image 1022\n",
      "network mnist-net_256x4 run 36 has image 1022\n",
      "network mnist-net_256x4 run 50 has image 1022\n",
      "network mnist-net_256x4 run 81 has image 1022\n",
      "network mnist-net_256x4 run 92 has image 1022\n",
      "network mnist_relu_4_1024 run 32 has image 548\n",
      "network mnist_relu_4_1024 run 70 has image 548\n",
      "network mnist_relu_4_1024 run 89 has image 548\n"
     ]
    }
   ],
   "source": [
    "for i,net in enumerate(networks):\n",
    "    if i == 0:\n",
    "        continue\n",
    "    for run in range(100):\n",
    "        if i == 1:\n",
    "            if 1022 in distrs[distrs['network'] == net]['images'].iloc[run]:\n",
    "                print(f'network {net} run {run} has image 1022')\n",
    "                # get index of the run\n",
    "                index = distrs[distrs['network'] == net].index[run]\n",
    "                distrs.loc[index,'runtime'] += runtime_extra_net_2\n",
    "                \n",
    "            if 677 in distrs[distrs['network'] == net]['images'].iloc[run]:\n",
    "                print(f'network {net} run {run} has image 677')\n",
    "                index = distrs[distrs['network'] == net].index[run]\n",
    "                distrs.loc[index,'runtime'] += runtime_extra_net_2_2\n",
    "            \n",
    "        if i == 2:\n",
    "            if 548 in distrs[distrs['network'] == net]['images'].iloc[run]:\n",
    "                print(f'network {net} run {run} has image 548')\n",
    "                index = distrs[distrs['network'] == net].index[run]\n",
    "                distrs.loc[index,'runtime'] += runtime_extra_net_3\n",
    "        "
   ]
  },
  {
   "cell_type": "code",
   "execution_count": 2,
   "id": "aaff762b03cddb7",
   "metadata": {
    "ExecuteTime": {
     "end_time": "2024-03-22T22:37:32.211347200Z",
     "start_time": "2024-03-22T22:37:32.023302200Z"
    },
    "collapsed": false
   },
   "outputs": [],
   "source": [
    "# Importing the data\n",
    "distributions_df_1 = pd.read_pickle('Datasets/distributions_fairness.pkl')\n",
    "distributions_df_2 = pd.read_pickle('Datasets/distributions_fomlas.pkl')\n",
    "\n",
    "distributions_df = pd.concat([distributions_df_1, distributions_df_2])"
   ]
  },
  {
   "cell_type": "code",
   "execution_count": 34,
   "id": "493d0bf176c57f3e",
   "metadata": {
    "ExecuteTime": {
     "end_time": "2024-03-14T17:38:16.602925800Z",
     "start_time": "2024-03-14T17:38:15.792856600Z"
    },
    "collapsed": false
   },
   "outputs": [
    {
     "data": {
      "text/html": [
       "<div>\n",
       "<style scoped>\n",
       "    .dataframe tbody tr th:only-of-type {\n",
       "        vertical-align: middle;\n",
       "    }\n",
       "\n",
       "    .dataframe tbody tr th {\n",
       "        vertical-align: top;\n",
       "    }\n",
       "\n",
       "    .dataframe thead th {\n",
       "        text-align: right;\n",
       "    }\n",
       "</style>\n",
       "<table border=\"1\" class=\"dataframe\">\n",
       "  <thead>\n",
       "    <tr style=\"text-align: right;\">\n",
       "      <th></th>\n",
       "      <th>network</th>\n",
       "      <th>bins</th>\n",
       "      <th>distribution</th>\n",
       "      <th>runtime</th>\n",
       "      <th>images</th>\n",
       "      <th>run</th>\n",
       "    </tr>\n",
       "  </thead>\n",
       "  <tbody>\n",
       "    <tr>\n",
       "      <th>0</th>\n",
       "      <td>mnist-net</td>\n",
       "      <td>[tensor(0.0091), tensor(0.0092), tensor(0.0093...</td>\n",
       "      <td>[tensor(0.), tensor(0.), tensor(0.), tensor(0....</td>\n",
       "      <td>118411.854467</td>\n",
       "      <td>[516, 49, 697, 87, 193, 181, 833, 297, 700, 40...</td>\n",
       "      <td>0</td>\n",
       "    </tr>\n",
       "    <tr>\n",
       "      <th>1</th>\n",
       "      <td>mnist-net</td>\n",
       "      <td>[tensor(0.0010), tensor(0.0011), tensor(0.0011...</td>\n",
       "      <td>[tensor(0.), tensor(0.), tensor(0.), tensor(0....</td>\n",
       "      <td>77550.304662</td>\n",
       "      <td>[533, 845, 88, 138, 459, 895, 272, 357, 267, 2...</td>\n",
       "      <td>1</td>\n",
       "    </tr>\n",
       "    <tr>\n",
       "      <th>2</th>\n",
       "      <td>mnist-net</td>\n",
       "      <td>[tensor(0.0085), tensor(0.0086), tensor(0.0087...</td>\n",
       "      <td>[tensor(0.), tensor(0.), tensor(0.), tensor(0....</td>\n",
       "      <td>104138.536945</td>\n",
       "      <td>[160, 595, 491, 871, 987, 546, 535, 807, 787, ...</td>\n",
       "      <td>2</td>\n",
       "    </tr>\n",
       "    <tr>\n",
       "      <th>3</th>\n",
       "      <td>mnist-net</td>\n",
       "      <td>[tensor(0.0049), tensor(0.0050), tensor(0.0051...</td>\n",
       "      <td>[tensor(0.), tensor(0.), tensor(0.), tensor(0....</td>\n",
       "      <td>140782.403927</td>\n",
       "      <td>[545, 804, 584, 150, 383, 109, 108, 689, 348, ...</td>\n",
       "      <td>3</td>\n",
       "    </tr>\n",
       "    <tr>\n",
       "      <th>4</th>\n",
       "      <td>mnist-net</td>\n",
       "      <td>[tensor(0.0028), tensor(0.0029), tensor(0.0030...</td>\n",
       "      <td>[tensor(0.), tensor(0.), tensor(0.), tensor(0....</td>\n",
       "      <td>114566.330425</td>\n",
       "      <td>[433, 491, 617, 504, 500, 586, 883, 426, 604, ...</td>\n",
       "      <td>4</td>\n",
       "    </tr>\n",
       "    <tr>\n",
       "      <th>...</th>\n",
       "      <td>...</td>\n",
       "      <td>...</td>\n",
       "      <td>...</td>\n",
       "      <td>...</td>\n",
       "      <td>...</td>\n",
       "      <td>...</td>\n",
       "    </tr>\n",
       "    <tr>\n",
       "      <th>895</th>\n",
       "      <td>mnist_relu_9_200</td>\n",
       "      <td>[tensor(0.0126), tensor(0.0128), tensor(0.0129...</td>\n",
       "      <td>[tensor(0.), tensor(0.), tensor(0.), tensor(0....</td>\n",
       "      <td>236703.340350</td>\n",
       "      <td>[65, 19, 43, 95, 90, 96, 12, 16, 25, 41, 87, 6...</td>\n",
       "      <td>95</td>\n",
       "    </tr>\n",
       "    <tr>\n",
       "      <th>896</th>\n",
       "      <td>mnist_relu_9_200</td>\n",
       "      <td>[tensor(0.0105), tensor(0.0106), tensor(0.0108...</td>\n",
       "      <td>[tensor(0.), tensor(0.), tensor(0.), tensor(0....</td>\n",
       "      <td>219548.796045</td>\n",
       "      <td>[77, 39, 65, 73, 74, 89, 47, 97, 11, 26, 48, 1...</td>\n",
       "      <td>96</td>\n",
       "    </tr>\n",
       "    <tr>\n",
       "      <th>897</th>\n",
       "      <td>mnist_relu_9_200</td>\n",
       "      <td>[tensor(0.0076), tensor(0.0077), tensor(0.0078...</td>\n",
       "      <td>[tensor(0.), tensor(0.), tensor(0.), tensor(0....</td>\n",
       "      <td>217751.283244</td>\n",
       "      <td>[48, 40, 53, 9, 67, 51, 39, 62, 28, 17, 79, 98...</td>\n",
       "      <td>97</td>\n",
       "    </tr>\n",
       "    <tr>\n",
       "      <th>898</th>\n",
       "      <td>mnist_relu_9_200</td>\n",
       "      <td>[tensor(0.0038), tensor(0.0039), tensor(0.0041...</td>\n",
       "      <td>[tensor(0.), tensor(0.), tensor(0.), tensor(0....</td>\n",
       "      <td>219479.401202</td>\n",
       "      <td>[32, 56, 96, 70, 72, 34, 77, 12, 98, 2, 17, 67...</td>\n",
       "      <td>98</td>\n",
       "    </tr>\n",
       "    <tr>\n",
       "      <th>899</th>\n",
       "      <td>mnist_relu_9_200</td>\n",
       "      <td>[tensor(0.0033), tensor(0.0035), tensor(0.0036...</td>\n",
       "      <td>[tensor(0.), tensor(0.), tensor(0.), tensor(0....</td>\n",
       "      <td>200669.083654</td>\n",
       "      <td>[17, 46, 90, 53, 75, 83, 99, 69, 43, 1, 57, 30...</td>\n",
       "      <td>99</td>\n",
       "    </tr>\n",
       "  </tbody>\n",
       "</table>\n",
       "<p>1200 rows × 6 columns</p>\n",
       "</div>"
      ],
      "text/plain": [
       "              network                                               bins  \\\n",
       "0           mnist-net  [tensor(0.0091), tensor(0.0092), tensor(0.0093...   \n",
       "1           mnist-net  [tensor(0.0010), tensor(0.0011), tensor(0.0011...   \n",
       "2           mnist-net  [tensor(0.0085), tensor(0.0086), tensor(0.0087...   \n",
       "3           mnist-net  [tensor(0.0049), tensor(0.0050), tensor(0.0051...   \n",
       "4           mnist-net  [tensor(0.0028), tensor(0.0029), tensor(0.0030...   \n",
       "..                ...                                                ...   \n",
       "895  mnist_relu_9_200  [tensor(0.0126), tensor(0.0128), tensor(0.0129...   \n",
       "896  mnist_relu_9_200  [tensor(0.0105), tensor(0.0106), tensor(0.0108...   \n",
       "897  mnist_relu_9_200  [tensor(0.0076), tensor(0.0077), tensor(0.0078...   \n",
       "898  mnist_relu_9_200  [tensor(0.0038), tensor(0.0039), tensor(0.0041...   \n",
       "899  mnist_relu_9_200  [tensor(0.0033), tensor(0.0035), tensor(0.0036...   \n",
       "\n",
       "                                          distribution        runtime  \\\n",
       "0    [tensor(0.), tensor(0.), tensor(0.), tensor(0....  118411.854467   \n",
       "1    [tensor(0.), tensor(0.), tensor(0.), tensor(0....   77550.304662   \n",
       "2    [tensor(0.), tensor(0.), tensor(0.), tensor(0....  104138.536945   \n",
       "3    [tensor(0.), tensor(0.), tensor(0.), tensor(0....  140782.403927   \n",
       "4    [tensor(0.), tensor(0.), tensor(0.), tensor(0....  114566.330425   \n",
       "..                                                 ...            ...   \n",
       "895  [tensor(0.), tensor(0.), tensor(0.), tensor(0....  236703.340350   \n",
       "896  [tensor(0.), tensor(0.), tensor(0.), tensor(0....  219548.796045   \n",
       "897  [tensor(0.), tensor(0.), tensor(0.), tensor(0....  217751.283244   \n",
       "898  [tensor(0.), tensor(0.), tensor(0.), tensor(0....  219479.401202   \n",
       "899  [tensor(0.), tensor(0.), tensor(0.), tensor(0....  200669.083654   \n",
       "\n",
       "                                                images  run  \n",
       "0    [516, 49, 697, 87, 193, 181, 833, 297, 700, 40...    0  \n",
       "1    [533, 845, 88, 138, 459, 895, 272, 357, 267, 2...    1  \n",
       "2    [160, 595, 491, 871, 987, 546, 535, 807, 787, ...    2  \n",
       "3    [545, 804, 584, 150, 383, 109, 108, 689, 348, ...    3  \n",
       "4    [433, 491, 617, 504, 500, 586, 883, 426, 604, ...    4  \n",
       "..                                                 ...  ...  \n",
       "895  [65, 19, 43, 95, 90, 96, 12, 16, 25, 41, 87, 6...   95  \n",
       "896  [77, 39, 65, 73, 74, 89, 47, 97, 11, 26, 48, 1...   96  \n",
       "897  [48, 40, 53, 9, 67, 51, 39, 62, 28, 17, 79, 98...   97  \n",
       "898  [32, 56, 96, 70, 72, 34, 77, 12, 98, 2, 17, 67...   98  \n",
       "899  [17, 46, 90, 53, 75, 83, 99, 69, 43, 1, 57, 30...   99  \n",
       "\n",
       "[1200 rows x 6 columns]"
      ]
     },
     "execution_count": 34,
     "metadata": {},
     "output_type": "execute_result"
    }
   ],
   "source": [
    "distributions_df"
   ]
  },
  {
   "cell_type": "code",
   "execution_count": 35,
   "id": "ddbc5e33948ed674",
   "metadata": {
    "ExecuteTime": {
     "end_time": "2024-03-14T17:38:39.444438100Z",
     "start_time": "2024-03-14T17:38:39.384644600Z"
    },
    "collapsed": false
   },
   "outputs": [
    {
     "data": {
      "text/plain": [
       "12"
      ]
     },
     "execution_count": 35,
     "metadata": {},
     "output_type": "execute_result"
    }
   ],
   "source": [
    "# unique networks\n",
    "networks = distributions_df['network'].unique()\n",
    "len(networks)"
   ]
  },
  {
   "cell_type": "code",
   "execution_count": 94,
   "id": "f08ab86a9fa5fd55",
   "metadata": {
    "ExecuteTime": {
     "end_time": "2024-03-14T20:47:44.094304900Z",
     "start_time": "2024-03-14T20:47:43.786040700Z"
    },
    "collapsed": false
   },
   "outputs": [
    {
     "data": {
      "image/png": "[encoded data removed]",
      "text/plain": [
       "<Figure size 640x480 with 1 Axes>"
      ]
     },
     "metadata": {},
     "output_type": "display_data"
    }
   ],
   "source": [
    "fig, ax = plt.subplots()\n",
    "ax.set_xlabel('runtime (hours)')\n",
    "ax.set_ylabel('cummulative frequency')\n",
    "# per network make histograms of the runtimes\n",
    "for net in networks[:3]:\n",
    "    runtimes = np.array(distributions_df[distributions_df['network'] == net]['runtime'])\n",
    "    sorted = np.sort(runtimes)\n",
    "    \n",
    "    # average consecutive difference\n",
    "    avg_diff = np.mean(np.diff(sorted))\n",
    "    \n",
    "    # add last edge\n",
    "    #sorted = np.append(sorted, sorted[-1]+avg_diff)\n",
    "    \n",
    "\n",
    "    #ax.stairs(np.arange(1, 101), sorted)\n",
    "    ax.step(sorted/3600, np.arange(1, 101), label = net)\n",
    "\n",
    "    # ax.set_title('runtime distribution for network ' + net)\n",
    "    # fig.savefig('Figures/runtime_distribution_' + net + '.pdf', bbox_inches='tight', dpi=300)\n",
    "\n",
    "# legend and title\n",
    "ax.legend(loc='lower right')\n",
    "ax.set_title('runtime distribution for networks')\n",
    "# save figure\n",
    "fig.savefig('Figures/runtime_distribution_all.pdf', bbox_inches='tight', dpi=300)"
   ]
  },
  {
   "cell_type": "code",
   "execution_count": 125,
   "id": "cbacf36a78e0e87a",
   "metadata": {
    "ExecuteTime": {
     "end_time": "2024-03-08T15:18:21.073453700Z",
     "start_time": "2024-03-08T15:18:20.656155500Z"
    },
    "collapsed": false
   },
   "outputs": [
    {
     "data": {
      "image/png": "[encoded data removed]",
      "text/plain": [
       "<Figure size 640x480 with 1 Axes>"
      ]
     },
     "metadata": {},
     "output_type": "display_data"
    },
    {
     "data": {
      "image/png": "[encoded data removed]",
      "text/plain": [
       "<Figure size 640x480 with 1 Axes>"
      ]
     },
     "metadata": {},
     "output_type": "display_data"
    },
    {
     "data": {
      "image/png": "[encoded data removed]",
      "text/plain": [
       "<Figure size 640x480 with 1 Axes>"
      ]
     },
     "metadata": {},
     "output_type": "display_data"
    }
   ],
   "source": [
    "# per network make histograms of the runtimes\n",
    "for net in networks[:3]:\n",
    "    runtimes = np.array(distributions_df[distributions_df['network'] == net]['runtime'])\n",
    "    sorted = np.sort(runtimes)\n",
    "    \n",
    "    # average consecutive difference\n",
    "    avg_diff = np.mean(np.diff(sorted))\n",
    "    \n",
    "    # add last edge\n",
    "    sorted = np.append(sorted, sorted[-1]+avg_diff)\n",
    "    \n",
    "    fig, ax = plt.subplots()\n",
    "    ax.stairs(np.arange(1, 101), sorted)\n",
    "    #ax.step(sorted, np.arange(1, 101))\n",
    "    ax.set_xlabel('runtime (s)')\n",
    "    ax.set_ylabel('frequency')\n",
    "    ax.set_title('runtime distribution for network ' + net)\n",
    "    #fig.savefig('Figures/runtime_distribution_' + net + '.pdf', bbox_inches='tight', dpi=300)"
   ]
  },
  {
   "cell_type": "code",
   "execution_count": 3,
   "id": "31bbc9256ad17302",
   "metadata": {
    "ExecuteTime": {
     "end_time": "2024-03-22T22:38:29.260688400Z",
     "start_time": "2024-03-22T22:38:29.131868400Z"
    },
    "collapsed": false
   },
   "outputs": [],
   "source": [
    "from Helper.ImportDatasetsFOMLAS import df_epsilon, df_epsilon_crit\n",
    "from Helper.ImportDatasetsFairness import df_epsilon as df_epsilon_2\n",
    "from Helper.ImportDatasetsFairness import df_epsilon_crit as df_epsilon_crit_2\n",
    "\n",
    "# drop mnist-net, mnist-net_256x4 and mnist_relu_4_1024 from first df's\n",
    "df_epsilon = df_epsilon[df_epsilon['network'] != 'mnist-net']\n",
    "df_epsilon = df_epsilon[df_epsilon['network'] != 'mnist-net_256x4']\n",
    "df_epsilon = df_epsilon[df_epsilon['network'] != 'mnist_relu_4_1024']\n",
    "\n",
    "df_epsilon_crit = df_epsilon_crit[df_epsilon_crit['network'] != 'mnist-net']\n",
    "df_epsilon_crit = df_epsilon_crit[df_epsilon_crit['network'] != 'mnist-net_256x4']\n",
    "df_epsilon_crit = df_epsilon_crit[df_epsilon_crit['network'] != 'mnist_relu_4_1024']\n",
    "\n",
    "# concat\n",
    "df_epsilon = pd.concat([df_epsilon_2, df_epsilon])\n",
    "df_epsilon_crit = pd.concat([df_epsilon_crit_2, df_epsilon_crit])"
   ]
  },
  {
   "cell_type": "code",
   "execution_count": 10,
   "id": "6898eb30f1d14c4d",
   "metadata": {
    "ExecuteTime": {
     "end_time": "2024-03-22T22:40:20.352701Z",
     "start_time": "2024-03-22T22:40:20.197322800Z"
    },
    "collapsed": false
   },
   "outputs": [
    {
     "name": "stdout",
     "output_type": "stream",
     "text": [
      "\\hline mnist-net & 4049 \\\\\n",
      "\\hline mnist-net_256x4 & 9631 \\\\\n",
      "\\hline mnist_relu_4_1024 & 10792 \\\\\n",
      "\\hline mnist-net_256x2 & 433 \\\\\n",
      "\\hline mnist-net_256x6 & 1717 \\\\\n",
      "\\hline mnist_nn & 361 \\\\\n",
      "\\hline mnist_relu_3_100 & 1155 \\\\\n",
      "\\hline mnist_relu_3_50 & 827 \\\\\n",
      "\\hline mnist_relu_6_100 & 1185 \\\\\n",
      "\\hline mnist_relu_6_200 & 1219 \\\\\n",
      "\\hline mnist_relu_9_100 & 1153 \\\\\n",
      "\\hline mnist_relu_9_200 & 1737 \\\\\n"
     ]
    }
   ],
   "source": [
    "# get unique networks\n",
    "networks = df_epsilon['network'].unique()\n",
    "\n",
    "# get total runtime of all images for each network and print as latex table\n",
    "for net in networks:\n",
    "    total_runtime = df_epsilon[df_epsilon['network'] == net]['runtime'].sum()\n",
    "    print(f'\\\\hline {net} & {total_runtime/3600:.0f} \\\\\\\\')\n"
   ]
  },
  {
   "cell_type": "code",
   "execution_count": 5,
   "id": "98be2df5eafaea77",
   "metadata": {
    "ExecuteTime": {
     "end_time": "2024-03-22T22:38:51.529513700Z",
     "start_time": "2024-03-22T22:38:51.452179300Z"
    },
    "collapsed": false
   },
   "outputs": [
    {
     "data": {
      "text/plain": [
       "12"
      ]
     },
     "execution_count": 5,
     "metadata": {},
     "output_type": "execute_result"
    }
   ],
   "source": [
    "# get unique networks\n",
    "networks = df_epsilon['network'].unique()\n",
    "len(networks)"
   ]
  },
  {
   "cell_type": "code",
   "execution_count": 61,
   "id": "44e59a135752cb99",
   "metadata": {
    "ExecuteTime": {
     "end_time": "2024-03-14T17:46:42.533842500Z",
     "start_time": "2024-03-14T17:46:42.479723700Z"
    },
    "collapsed": false
   },
   "outputs": [],
   "source": [
    "from scipy.special import comb\n",
    "\n",
    "def binomial(n, p, x):\n",
    "    '''\n",
    "    :param n: number of trials\n",
    "    :param p: probability of success, value of a (quantile)\n",
    "    :param x: number of successes\n",
    "\n",
    "    :return: probability of x successes\n",
    "    '''\n",
    "\n",
    "    return comb(n, x) * (p ** x) * ((1 - p) ** (n - x))\n",
    "\n",
    "def binomial_bounds(n, p, alpha):\n",
    "    '''\n",
    "    :param n: number of trials\n",
    "    :param p: probability of success, value of a (quantile)\n",
    "    :param alpha: confidence interval\n",
    "\n",
    "    :return: lower and upper bound of confidence interval\n",
    "    '''\n",
    "    probs = np.arange(0, n + 1)\n",
    "    probs = binomial(n, p, probs)\n",
    "\n",
    "    # take sum of probabilities until we reach alpha/2\n",
    "    cumulated_probs = np.cumsum(probs)\n",
    "    lower_index = np.where(cumulated_probs <= alpha / 2)[0][-1]\n",
    "    upper_index = np.where(cumulated_probs >= 1 - alpha / 2)[0][0]\n",
    "\n",
    "    return lower_index, upper_index\n",
    "\n",
    "def get_quantile(network, sigma):\n",
    "    '''\n",
    "    :param network: name of network\n",
    "    :param sigma: quantile\n",
    "\n",
    "    :return: confidence interval for sigma quantile\n",
    "    '''\n",
    "\n",
    "    # Take all critical epsilons of the test set and put into numpy array\n",
    "    df_for_network = df_epsilon_crit[df_epsilon_crit['network'] == network]\n",
    "    df_for_network = df_for_network[df_for_network['ds'] == 'test']\n",
    "    # remove nans\n",
    "    df_for_network = df_for_network.dropna()\n",
    "    crit_epsilons = df_for_network['Epsilon'].to_numpy()\n",
    "    \n",
    "    n = len(crit_epsilons)\n",
    "\n",
    "    # We sort the critical epsilons\n",
    "    order_statistics = np.sort(crit_epsilons)\n",
    "    # We use the order statistics to estimate the sigma quantile\n",
    "    index = int(n * sigma) + 1  # As given by David et al. 1986\n",
    "    lower_index, upper_index = binomial_bounds(n, sigma, 0.05)\n",
    "    return order_statistics[index], order_statistics[lower_index], order_statistics[upper_index]"
   ]
  },
  {
   "cell_type": "code",
   "execution_count": 9,
   "id": "23d6d9670b102cd",
   "metadata": {
    "ExecuteTime": {
     "end_time": "2024-03-08T13:09:54.691059400Z",
     "start_time": "2024-03-08T13:09:44.675402Z"
    },
    "collapsed": false
   },
   "outputs": [],
   "source": [
    "import os\n",
    "\n",
    "# for each network and run create plot of final distribution with confidence interval\n",
    "networks = df_epsilon['network'].unique()\n",
    "\n",
    "\n",
    "for network in networks:\n",
    "    for run in range(10):\n",
    "        path = 'Figures/Final distribution with confidence interval fariness/'+network+'/'\n",
    "        if not os.path.exists(path):\n",
    "            os.makedirs(path)\n",
    "        \n",
    "        final_bins = distributions_df[distributions_df['network'] == network]['bins'].iloc[run]\n",
    "        final_distribution = distributions_df[distributions_df['network'] == network]['distribution'].iloc[run]\n",
    "        \n",
    "        quantile, lower, upper = get_quantile(network, 0.05)\n",
    "        \n",
    "        #make plots\n",
    "        fig, ax = plt.subplots()\n",
    "        ax.bar(final_bins, final_distribution, align = 'edge', width=final_bins[1]-final_bins[0], label='final distribution')\n",
    "        #ax.axvline(quantile, color='y', label='quantile estimation')\n",
    "        #ax.axvline(quantile+0.002, color='y')\n",
    "        ax.axvline(lower, color='r', label='95% confidence interval')\n",
    "        ax.axvline(upper+0.002, color='r')\n",
    "        \n",
    "        # labels\n",
    "        ax.set_xlabel('epsilon')\n",
    "        ax.set_ylabel('probability')\n",
    "        ax.set_title('Final distribution of epsilon for network ' + network + ' run ' + str(run))\n",
    "        # make legend smaller\n",
    "        ax.legend(loc='upper left', prop={'size': 8})\n",
    "        \n",
    "        plt.close(fig)\n",
    "        # save figure\n",
    "        fig.savefig(path + 'final_distribution_' + network + '_' + str(run) + '.png', bbox_inches='tight')"
   ]
  },
  {
   "cell_type": "code",
   "execution_count": 62,
   "id": "4043b8d965d13407",
   "metadata": {
    "ExecuteTime": {
     "end_time": "2024-03-14T17:46:46.083242800Z",
     "start_time": "2024-03-14T17:46:44.949294700Z"
    },
    "collapsed": false
   },
   "outputs": [],
   "source": [
    "# make 95% confidence intervals from the distributions\n",
    "conf_intervals = np.tile(0., (len(networks), 100, 2))\n",
    "\n",
    "for net,network in enumerate(networks):\n",
    "    for run in range(100):\n",
    "        final_bins = distributions_df[distributions_df['network'] == network]['bins'].iloc[run]\n",
    "        final_distribution = distributions_df[distributions_df['network'] == network]['distribution'].iloc[run]\n",
    "        cumsum = np.cumsum(final_distribution)\n",
    "        lower_index = np.where(cumsum <= 0.025)[0][-1]\n",
    "        upper_index = np.where(cumsum >= 0.975)[0][0]\n",
    "        \n",
    "        bin_size = final_bins[1] - final_bins[0]\n",
    "        \n",
    "        conf_intervals[net, run, 0] = final_bins[lower_index]\n",
    "        conf_intervals[net, run, 1] = final_bins[upper_index] + bin_size"
   ]
  },
  {
   "cell_type": "code",
   "execution_count": 63,
   "id": "9886a743ac489cd2",
   "metadata": {
    "ExecuteTime": {
     "end_time": "2024-03-14T17:46:51.134413700Z",
     "start_time": "2024-03-14T17:46:48.183006200Z"
    },
    "collapsed": false
   },
   "outputs": [],
   "source": [
    "in_confidence_interval = np.tile(0, (len(networks), 100))\n",
    "overlap = np.tile(0., (len(networks), 100))\n",
    "\n",
    "for net,network in enumerate(networks):\n",
    "    for run in range(100):\n",
    "        final_bins = distributions_df[distributions_df['network'] == network]['bins'].iloc[run]\n",
    "        final_distribution = distributions_df[distributions_df['network'] == network]['distribution'].iloc[run]\n",
    "        quantile, lower, upper = get_quantile(network, 0.05)\n",
    "        upper = upper + 0.002\n",
    "        \n",
    "        lower_bound_area = conf_intervals[net, run, 0]\n",
    "        upper_bound_area = conf_intervals[net, run, 1]\n",
    "        \n",
    "        if lower_bound_area < upper <= upper_bound_area:\n",
    "            metric = 1\n",
    "        elif lower_bound_area <= lower < upper_bound_area:\n",
    "            metric = 1\n",
    "        elif lower <= lower_bound_area and upper >= upper_bound_area:\n",
    "            metric = 1\n",
    "        else:\n",
    "            metric = 0\n",
    "        \n",
    "        in_confidence_interval[net, run] = metric\n",
    "        \n",
    "        \n",
    "        "
   ]
  },
  {
   "cell_type": "code",
   "execution_count": 70,
   "id": "ab8a54062f0570e8",
   "metadata": {
    "ExecuteTime": {
     "end_time": "2024-03-14T18:04:40.595964500Z",
     "start_time": "2024-03-14T18:04:40.553925600Z"
    },
    "collapsed": false
   },
   "outputs": [
    {
     "name": "stdout",
     "output_type": "stream",
     "text": [
      "mnist-net, mnist-net\\_256x4, mnist\\_relu\\_4\\_1024, mnist-net\\_256x2, mnist-net\\_256x6, mnist\\_nn, mnist\\_relu\\_3\\_100, mnist\\_relu\\_3\\_50, mnist\\_relu\\_6\\_100, mnist\\_relu\\_6\\_200, mnist\\_relu\\_9\\_100, mnist\\_relu\\_9\\_200\n"
     ]
    }
   ],
   "source": [
    "str = ''\n",
    "for network in networks:\n",
    "    name = network.replace('_','\\_')\n",
    "    str += name + ', '\n",
    "print(str[:-2])"
   ]
  },
  {
   "cell_type": "code",
   "execution_count": 69,
   "id": "dc63152597e86732",
   "metadata": {
    "ExecuteTime": {
     "end_time": "2024-03-14T17:55:32.067163300Z",
     "start_time": "2024-03-14T17:55:32.022728400Z"
    },
    "collapsed": false
   },
   "outputs": [
    {
     "name": "stdout",
     "output_type": "stream",
     "text": [
      "\\hline mnist-net & 95 \\\\\n",
      "\\hline mnist-net\\_256x4 & 81 \\\\\n",
      "\\hline mnist\\_relu\\_4\\_1024 & 86 \\\\\n",
      "\\hline mnist-net\\_256x2 & 100 \\\\\n",
      "\\hline mnist-net\\_256x6 & 98 \\\\\n",
      "\\hline mnist\\_nn & 100 \\\\\n",
      "\\hline mnist\\_relu\\_3\\_100 & 100 \\\\\n",
      "\\hline mnist\\_relu\\_3\\_50 & 97 \\\\\n",
      "\\hline mnist\\_relu\\_6\\_100 & 97 \\\\\n",
      "\\hline mnist\\_relu\\_6\\_200 & 98 \\\\\n",
      "\\hline mnist\\_relu\\_9\\_100 & 99 \\\\\n",
      "\\hline mnist\\_relu\\_9\\_200 & 99 \\\\\n"
     ]
    }
   ],
   "source": [
    "total = in_confidence_interval.sum(axis=1)\n",
    "\n",
    "# make latex table\n",
    "\n",
    "for net,network in enumerate(networks):\n",
    "    name = network.replace('_',' ')\n",
    "    print(f'\\\\hline {name} & {total[net]} \\\\\\\\')"
   ]
  },
  {
   "cell_type": "code",
   "execution_count": 86,
   "id": "3fc3f6a85db5eaa",
   "metadata": {
    "ExecuteTime": {
     "end_time": "2024-03-14T20:05:03.536074Z",
     "start_time": "2024-03-14T20:05:03.471015900Z"
    },
    "collapsed": false
   },
   "outputs": [
    {
     "name": "stdout",
     "output_type": "stream",
     "text": [
      "\\hline mnist-net & 0.0102 & 0.0173 & (0.0090, 0.0170) & (0.0023, 0.0077) & (0.0151, 0.0254) & 0.0001 & 0.0109 & 0.0072 & 0.0080 \\\\\n",
      "\\hline mnist-net 256x4 & 0.0172 & 0.0306 & (0.0170, 0.0250) & (0.0043, 0.0100) & (0.0258, 0.0468) & 0.0002 & 0.0210 & 0.0134 & 0.0080 \\\\\n",
      "\\hline mnist relu 4 1024 & 0.0097 & 0.0218 & (0.0070, 0.0150) & (0.0014, 0.0077) & (0.0213, 0.0371) & 0.0004 & 0.0203 & 0.0121 & 0.0080 \\\\\n",
      "\\hline mnist-net 256x2 & 0.0126 & 0.0184 & (0.0070, 0.0210) & (0.0073, 0.0149) & (0.0179, 0.0261) & 0.0001 & 0.0089 & 0.0058 & 0.0140 \\\\\n",
      "\\hline mnist-net 256x6 & 0.0181 & 0.0304 & (0.0050, 0.0330) & (0.0046, 0.0178) & (0.0390, 0.0549) & 0.0019 & 0.0192 & 0.0123 & 0.0280 \\\\\n",
      "\\hline mnist nn & 0.0040 & 0.0082 & (0.0010, 0.0110) & (0.0015, 0.0046) & (0.0083, 0.0164) & 0.0003 & 0.0081 & 0.0042 & 0.0100 \\\\\n",
      "\\hline mnist relu 3 100 & 0.0142 & 0.0253 & (0.0050, 0.0310) & (0.0024, 0.0091) & (0.0304, 0.0438) & 0.0001 & 0.0169 & 0.0111 & 0.0260 \\\\\n",
      "\\hline mnist relu 3 50 & 0.0166 & 0.0264 & (0.0070, 0.0270) & (0.0082, 0.0190) & (0.0242, 0.0366) & 0.0005 & 0.0138 & 0.0098 & 0.0200 \\\\\n",
      "\\hline mnist relu 6 100 & 0.0169 & 0.0293 & (0.0090, 0.0270) & (0.0077, 0.0191) & (0.0251, 0.0418) & 0.0019 & 0.0184 & 0.0123 & 0.0180 \\\\\n",
      "\\hline mnist relu 6 200 & 0.0176 & 0.0310 & (0.0050, 0.0330) & (0.0066, 0.0193) & (0.0326, 0.0516) & 0.0002 & 0.0190 & 0.0134 & 0.0280 \\\\\n",
      "\\hline mnist relu 9 100 & 0.0119 & 0.0220 & (0.0090, 0.0270) & (0.0024, 0.0094) & (0.0193, 0.0358) & 0.0001 & 0.0176 & 0.0102 & 0.0180 \\\\\n",
      "\\hline mnist relu 9 200 & 0.0174 & 0.0303 & (0.0090, 0.0330) & (0.0068, 0.0220) & (0.0281, 0.0470) & 0.0002 & 0.0188 & 0.0129 & 0.0240 \\\\\n"
     ]
    }
   ],
   "source": [
    "for net,network in enumerate(networks):\n",
    "    name = network.replace('_',' ')\n",
    "    average_left_edge = np.mean(conf_intervals[net,:,0])\n",
    "    average_right_edge = np.mean(conf_intervals[net,:,1])\n",
    "    \n",
    "    # ground truth interval\n",
    "    quantile, lower_truth, upper_truth = get_quantile(network, 0.05)\n",
    "    upper_truth = upper_truth + 0.002\n",
    "    \n",
    "    # worst case left interval\n",
    "    worst_left_ind = np.argmin(conf_intervals[net,:,0])\n",
    "    worst_left_interval = conf_intervals[net,worst_left_ind]\n",
    "    \n",
    "    # worst case right interval\n",
    "    worst_right_ind = np.argmax(conf_intervals[net,:,1])\n",
    "    worst_right_interval = conf_intervals[net,worst_right_ind]\n",
    "    \n",
    "    # min, max and average size of interval\n",
    "    min_size = np.min(conf_intervals[net,:,1] - conf_intervals[net,:,0])\n",
    "    max_size = np.max(conf_intervals[net,:,1] - conf_intervals[net,:,0])\n",
    "    avg_size = np.mean(conf_intervals[net,:,1] - conf_intervals[net,:,0])\n",
    "    \n",
    "    # ground truth size\n",
    "    truth_size = upper_truth - lower_truth\n",
    "    \n",
    "    print(f'\\\\hline {name} & {average_left_edge:.4f} & {average_right_edge:.4f} & ({lower_truth:.4f}, {upper_truth:.4f}) & ({worst_left_interval[0]:.4f}, {worst_left_interval[1]:.4f}) & ({worst_right_interval[0]:.4f}, {worst_right_interval[1]:.4f}) & {min_size:.4f} & {max_size:.4f} & {avg_size:.4f} & {truth_size:.4f} \\\\\\\\')"
   ]
  },
  {
   "cell_type": "code",
   "execution_count": 12,
   "id": "55a8c53ea7862812",
   "metadata": {
    "ExecuteTime": {
     "end_time": "2024-03-22T22:43:09.444880700Z",
     "start_time": "2024-03-22T22:43:08.627321600Z"
    },
    "collapsed": false
   },
   "outputs": [
    {
     "data": {
      "text/html": [
       "<div>\n",
       "<style scoped>\n",
       "    .dataframe tbody tr th:only-of-type {\n",
       "        vertical-align: middle;\n",
       "    }\n",
       "\n",
       "    .dataframe tbody tr th {\n",
       "        vertical-align: top;\n",
       "    }\n",
       "\n",
       "    .dataframe thead th {\n",
       "        text-align: right;\n",
       "    }\n",
       "</style>\n",
       "<table border=\"1\" class=\"dataframe\">\n",
       "  <thead>\n",
       "    <tr style=\"text-align: right;\">\n",
       "      <th></th>\n",
       "      <th>network</th>\n",
       "      <th>bins</th>\n",
       "      <th>distribution</th>\n",
       "      <th>runtime</th>\n",
       "      <th>images</th>\n",
       "      <th>run</th>\n",
       "    </tr>\n",
       "  </thead>\n",
       "  <tbody>\n",
       "    <tr>\n",
       "      <th>0</th>\n",
       "      <td>mnist-net</td>\n",
       "      <td>[tensor(0.0091), tensor(0.0092), tensor(0.0093...</td>\n",
       "      <td>[tensor(0.), tensor(0.), tensor(0.), tensor(0....</td>\n",
       "      <td>118411.854467</td>\n",
       "      <td>[516, 49, 697, 87, 193, 181, 833, 297, 700, 40...</td>\n",
       "      <td>0</td>\n",
       "    </tr>\n",
       "    <tr>\n",
       "      <th>1</th>\n",
       "      <td>mnist-net</td>\n",
       "      <td>[tensor(0.0010), tensor(0.0011), tensor(0.0011...</td>\n",
       "      <td>[tensor(0.), tensor(0.), tensor(0.), tensor(0....</td>\n",
       "      <td>77550.304662</td>\n",
       "      <td>[533, 845, 88, 138, 459, 895, 272, 357, 267, 2...</td>\n",
       "      <td>1</td>\n",
       "    </tr>\n",
       "    <tr>\n",
       "      <th>2</th>\n",
       "      <td>mnist-net</td>\n",
       "      <td>[tensor(0.0085), tensor(0.0086), tensor(0.0087...</td>\n",
       "      <td>[tensor(0.), tensor(0.), tensor(0.), tensor(0....</td>\n",
       "      <td>104138.536945</td>\n",
       "      <td>[160, 595, 491, 871, 987, 546, 535, 807, 787, ...</td>\n",
       "      <td>2</td>\n",
       "    </tr>\n",
       "    <tr>\n",
       "      <th>3</th>\n",
       "      <td>mnist-net</td>\n",
       "      <td>[tensor(0.0049), tensor(0.0050), tensor(0.0051...</td>\n",
       "      <td>[tensor(0.), tensor(0.), tensor(0.), tensor(0....</td>\n",
       "      <td>140782.403927</td>\n",
       "      <td>[545, 804, 584, 150, 383, 109, 108, 689, 348, ...</td>\n",
       "      <td>3</td>\n",
       "    </tr>\n",
       "    <tr>\n",
       "      <th>4</th>\n",
       "      <td>mnist-net</td>\n",
       "      <td>[tensor(0.0028), tensor(0.0029), tensor(0.0030...</td>\n",
       "      <td>[tensor(0.), tensor(0.), tensor(0.), tensor(0....</td>\n",
       "      <td>114566.330425</td>\n",
       "      <td>[433, 491, 617, 504, 500, 586, 883, 426, 604, ...</td>\n",
       "      <td>4</td>\n",
       "    </tr>\n",
       "    <tr>\n",
       "      <th>...</th>\n",
       "      <td>...</td>\n",
       "      <td>...</td>\n",
       "      <td>...</td>\n",
       "      <td>...</td>\n",
       "      <td>...</td>\n",
       "      <td>...</td>\n",
       "    </tr>\n",
       "    <tr>\n",
       "      <th>895</th>\n",
       "      <td>mnist_relu_9_200</td>\n",
       "      <td>[tensor(0.0126), tensor(0.0128), tensor(0.0129...</td>\n",
       "      <td>[tensor(0.), tensor(0.), tensor(0.), tensor(0....</td>\n",
       "      <td>236703.340350</td>\n",
       "      <td>[65, 19, 43, 95, 90, 96, 12, 16, 25, 41, 87, 6...</td>\n",
       "      <td>95</td>\n",
       "    </tr>\n",
       "    <tr>\n",
       "      <th>896</th>\n",
       "      <td>mnist_relu_9_200</td>\n",
       "      <td>[tensor(0.0105), tensor(0.0106), tensor(0.0108...</td>\n",
       "      <td>[tensor(0.), tensor(0.), tensor(0.), tensor(0....</td>\n",
       "      <td>219548.796045</td>\n",
       "      <td>[77, 39, 65, 73, 74, 89, 47, 97, 11, 26, 48, 1...</td>\n",
       "      <td>96</td>\n",
       "    </tr>\n",
       "    <tr>\n",
       "      <th>897</th>\n",
       "      <td>mnist_relu_9_200</td>\n",
       "      <td>[tensor(0.0076), tensor(0.0077), tensor(0.0078...</td>\n",
       "      <td>[tensor(0.), tensor(0.), tensor(0.), tensor(0....</td>\n",
       "      <td>217751.283244</td>\n",
       "      <td>[48, 40, 53, 9, 67, 51, 39, 62, 28, 17, 79, 98...</td>\n",
       "      <td>97</td>\n",
       "    </tr>\n",
       "    <tr>\n",
       "      <th>898</th>\n",
       "      <td>mnist_relu_9_200</td>\n",
       "      <td>[tensor(0.0038), tensor(0.0039), tensor(0.0041...</td>\n",
       "      <td>[tensor(0.), tensor(0.), tensor(0.), tensor(0....</td>\n",
       "      <td>219479.401202</td>\n",
       "      <td>[32, 56, 96, 70, 72, 34, 77, 12, 98, 2, 17, 67...</td>\n",
       "      <td>98</td>\n",
       "    </tr>\n",
       "    <tr>\n",
       "      <th>899</th>\n",
       "      <td>mnist_relu_9_200</td>\n",
       "      <td>[tensor(0.0033), tensor(0.0035), tensor(0.0036...</td>\n",
       "      <td>[tensor(0.), tensor(0.), tensor(0.), tensor(0....</td>\n",
       "      <td>200669.083654</td>\n",
       "      <td>[17, 46, 90, 53, 75, 83, 99, 69, 43, 1, 57, 30...</td>\n",
       "      <td>99</td>\n",
       "    </tr>\n",
       "  </tbody>\n",
       "</table>\n",
       "<p>1200 rows × 6 columns</p>\n",
       "</div>"
      ],
      "text/plain": [
       "              network                                               bins  \\\n",
       "0           mnist-net  [tensor(0.0091), tensor(0.0092), tensor(0.0093...   \n",
       "1           mnist-net  [tensor(0.0010), tensor(0.0011), tensor(0.0011...   \n",
       "2           mnist-net  [tensor(0.0085), tensor(0.0086), tensor(0.0087...   \n",
       "3           mnist-net  [tensor(0.0049), tensor(0.0050), tensor(0.0051...   \n",
       "4           mnist-net  [tensor(0.0028), tensor(0.0029), tensor(0.0030...   \n",
       "..                ...                                                ...   \n",
       "895  mnist_relu_9_200  [tensor(0.0126), tensor(0.0128), tensor(0.0129...   \n",
       "896  mnist_relu_9_200  [tensor(0.0105), tensor(0.0106), tensor(0.0108...   \n",
       "897  mnist_relu_9_200  [tensor(0.0076), tensor(0.0077), tensor(0.0078...   \n",
       "898  mnist_relu_9_200  [tensor(0.0038), tensor(0.0039), tensor(0.0041...   \n",
       "899  mnist_relu_9_200  [tensor(0.0033), tensor(0.0035), tensor(0.0036...   \n",
       "\n",
       "                                          distribution        runtime  \\\n",
       "0    [tensor(0.), tensor(0.), tensor(0.), tensor(0....  118411.854467   \n",
       "1    [tensor(0.), tensor(0.), tensor(0.), tensor(0....   77550.304662   \n",
       "2    [tensor(0.), tensor(0.), tensor(0.), tensor(0....  104138.536945   \n",
       "3    [tensor(0.), tensor(0.), tensor(0.), tensor(0....  140782.403927   \n",
       "4    [tensor(0.), tensor(0.), tensor(0.), tensor(0....  114566.330425   \n",
       "..                                                 ...            ...   \n",
       "895  [tensor(0.), tensor(0.), tensor(0.), tensor(0....  236703.340350   \n",
       "896  [tensor(0.), tensor(0.), tensor(0.), tensor(0....  219548.796045   \n",
       "897  [tensor(0.), tensor(0.), tensor(0.), tensor(0....  217751.283244   \n",
       "898  [tensor(0.), tensor(0.), tensor(0.), tensor(0....  219479.401202   \n",
       "899  [tensor(0.), tensor(0.), tensor(0.), tensor(0....  200669.083654   \n",
       "\n",
       "                                                images  run  \n",
       "0    [516, 49, 697, 87, 193, 181, 833, 297, 700, 40...    0  \n",
       "1    [533, 845, 88, 138, 459, 895, 272, 357, 267, 2...    1  \n",
       "2    [160, 595, 491, 871, 987, 546, 535, 807, 787, ...    2  \n",
       "3    [545, 804, 584, 150, 383, 109, 108, 689, 348, ...    3  \n",
       "4    [433, 491, 617, 504, 500, 586, 883, 426, 604, ...    4  \n",
       "..                                                 ...  ...  \n",
       "895  [65, 19, 43, 95, 90, 96, 12, 16, 25, 41, 87, 6...   95  \n",
       "896  [77, 39, 65, 73, 74, 89, 47, 97, 11, 26, 48, 1...   96  \n",
       "897  [48, 40, 53, 9, 67, 51, 39, 62, 28, 17, 79, 98...   97  \n",
       "898  [32, 56, 96, 70, 72, 34, 77, 12, 98, 2, 17, 67...   98  \n",
       "899  [17, 46, 90, 53, 75, 83, 99, 69, 43, 1, 57, 30...   99  \n",
       "\n",
       "[1200 rows x 6 columns]"
      ]
     },
     "execution_count": 12,
     "metadata": {},
     "output_type": "execute_result"
    }
   ],
   "source": [
    "distributions_df"
   ]
  },
  {
   "cell_type": "code",
   "execution_count": 14,
   "id": "963ea4384059c54b",
   "metadata": {
    "ExecuteTime": {
     "end_time": "2024-03-22T22:47:08.643311600Z",
     "start_time": "2024-03-22T22:47:08.478760500Z"
    },
    "collapsed": false
   },
   "outputs": [
    {
     "name": "stdout",
     "output_type": "stream",
     "text": [
      "\\hline mnist-net & 19.85 & 45.38 & 30.32 & 4049.16 \\\\\n",
      "\\hline mnist-net 256x4 & 43.67 & 79.39 & 61.94 & 9631.47 \\\\\n",
      "\\hline mnist relu 4 1024 & 40.50 & 74.62 & 57.73 & 10791.52 \\\\\n",
      "\\hline mnist-net 256x2 & 2.68 & 14.58 & 8.09 & 432.95 \\\\\n",
      "\\hline mnist-net 256x6 & 49.53 & 80.41 & 62.12 & 1716.84 \\\\\n",
      "\\hline mnist nn & 3.80 & 19.55 & 11.52 & 360.63 \\\\\n",
      "\\hline mnist relu 3 100 & 38.02 & 64.08 & 49.29 & 1155.38 \\\\\n",
      "\\hline mnist relu 3 50 & 12.29 & 30.64 & 21.81 & 827.41 \\\\\n",
      "\\hline mnist relu 6 100 & 44.55 & 66.67 & 53.70 & 1184.82 \\\\\n",
      "\\hline mnist relu 6 200 & 45.34 & 67.69 & 56.10 & 1219.33 \\\\\n",
      "\\hline mnist relu 9 100 & 39.76 & 65.84 & 51.86 & 1153.48 \\\\\n",
      "\\hline mnist relu 9 200 & 51.18 & 77.18 & 62.74 & 1737.23 \\\\\n"
     ]
    }
   ],
   "source": [
    "for net, network in enumerate(networks):\n",
    "    name = network.replace('_',' ')\n",
    "    \n",
    "    # min, max and average runtime\n",
    "    min_runtime = np.min(distributions_df[distributions_df['network'] == network]['runtime'])\n",
    "    max_runtime = np.max(distributions_df[distributions_df['network'] == network]['runtime'])\n",
    "    avg_runtime = np.mean(distributions_df[distributions_df['network'] == network]['runtime'])\n",
    "    \n",
    "    # ground truth runtime\n",
    "    ground_truth_runtime = df_epsilon[df_epsilon['network'] == network]['runtime'].sum()/3600\n",
    "    \n",
    "    # change seconds to hours\n",
    "    min_runtime = min_runtime/3600\n",
    "    max_runtime = max_runtime/3600\n",
    "    avg_runtime = avg_runtime/3600\n",
    "    \n",
    "    print(f'\\\\hline {name} & {min_runtime:.2f} & {max_runtime:.2f} & {avg_runtime:.2f} & {ground_truth_runtime:.2f} \\\\\\\\')"
   ]
  },
  {
   "cell_type": "code",
   "execution_count": 83,
   "id": "f6974831500e31cf",
   "metadata": {
    "ExecuteTime": {
     "end_time": "2024-03-14T19:34:30.734068Z",
     "start_time": "2024-03-14T19:34:30.715440700Z"
    },
    "collapsed": false
   },
   "outputs": [
    {
     "name": "stdout",
     "output_type": "stream",
     "text": [
      "\\hline Network & Average lower bound & Average upper bound & True 95\\% confidence interval & Lowest interval & Highest interval & Min size & Max size & Average size \\\\\n"
     ]
    }
   ],
   "source": [
    "# print(f'\\\\hline network & average lower bound & average upper bound & true 95\\% confidence interval & lowest interval & highest interval & min size & max size & average size \\\\\\\\')\n",
    "print(f'\\\\hline Network & Average lower bound & Average upper bound & True 95\\% confidence interval & Lowest interval & Highest interval & Min size & Max size & Average size \\\\\\\\')"
   ]
  },
  {
   "cell_type": "code",
   "execution_count": 85,
   "id": "7ab16f84b90c434d",
   "metadata": {
    "ExecuteTime": {
     "end_time": "2024-03-08T14:04:14.747892900Z",
     "start_time": "2024-03-08T14:04:14.718993300Z"
    },
    "collapsed": false
   },
   "outputs": [],
   "source": [
    "# make histogram\n",
    "# first check lower bounds\n",
    "net = 0\n",
    "\n",
    "L_bigger_than_lower_bound = conf_intervals[net,:,0][:,np.newaxis] >= conf_intervals[net,:,0][np.newaxis,:]\n",
    "L_smaller_than_upper_bound = conf_intervals[net,:,0][:,np.newaxis] < conf_intervals[net,:,1][np.newaxis,:]\n",
    "\n",
    "# then check upper bounds\n",
    "U_smaller_than_upper_bound = conf_intervals[net,:,1][:,np.newaxis] <= conf_intervals[net,:,1][np.newaxis,:]\n",
    "U_bigger_than_lower_bound = conf_intervals[net,:,1][:,np.newaxis] > conf_intervals[net,:,0][np.newaxis,:]\n",
    "\n",
    "# count amount\n",
    "L_amount = (L_bigger_than_lower_bound*L_smaller_than_upper_bound).sum(axis=1)\n",
    "U_amount = (U_smaller_than_upper_bound*U_bigger_than_lower_bound).sum(axis=1)\n"
   ]
  },
  {
   "cell_type": "code",
   "execution_count": 17,
   "id": "394fefb97e97477",
   "metadata": {
    "ExecuteTime": {
     "end_time": "2024-03-08T13:33:47.527703300Z",
     "start_time": "2024-03-08T13:33:47.411931200Z"
    },
    "collapsed": false
   },
   "outputs": [
    {
     "data": {
      "text/plain": [
       "<matplotlib.patches.StepPatch at 0x258c2b2bdd0>"
      ]
     },
     "execution_count": 17,
     "metadata": {},
     "output_type": "execute_result"
    },
    {
     "data": {
      "image/png": "[encoded data removed]",
      "text/plain": [
       "<Figure size 640x480 with 1 Axes>"
      ]
     },
     "metadata": {},
     "output_type": "display_data"
    }
   ],
   "source": [
    "x = np.array([2,1,3,2])\n",
    "edges = np.array([1,2,3,4,4.5])\n",
    "plt.stairs(x, edges)"
   ]
  },
  {
   "cell_type": "code",
   "execution_count": 89,
   "id": "1db02c5fa6d8c17",
   "metadata": {
    "ExecuteTime": {
     "end_time": "2024-03-08T14:04:41.178823900Z",
     "start_time": "2024-03-08T14:04:41.136031200Z"
    },
    "collapsed": false
   },
   "outputs": [
    {
     "data": {
      "text/plain": [
       "array([[2.34508025e-03, 1.00000000e+00, 0.00000000e+00],\n",
       "       [2.59183720e-03, 2.00000000e+00, 0.00000000e+00],\n",
       "       [3.47141968e-03, 3.00000000e+00, 0.00000000e+00],\n",
       "       [4.40136995e-03, 4.00000000e+00, 0.00000000e+00],\n",
       "       [4.43339907e-03, 5.00000000e+00, 0.00000000e+00],\n",
       "       [4.70627612e-03, 6.00000000e+00, 0.00000000e+00],\n",
       "       [5.35291107e-03, 7.00000000e+00, 0.00000000e+00],\n",
       "       [5.38963685e-03, 8.00000000e+00, 0.00000000e+00],\n",
       "       [5.49558923e-03, 9.00000000e+00, 0.00000000e+00],\n",
       "       [5.50533971e-03, 1.00000000e+01, 0.00000000e+00],\n",
       "       [5.58447186e-03, 1.10000000e+01, 0.00000000e+00],\n",
       "       [5.65358205e-03, 1.20000000e+01, 0.00000000e+00],\n",
       "       [5.69515256e-03, 1.30000000e+01, 0.00000000e+00],\n",
       "       [6.01633964e-03, 1.40000000e+01, 0.00000000e+00],\n",
       "       [6.15866249e-03, 1.50000000e+01, 0.00000000e+00],\n",
       "       [6.15907693e-03, 1.60000000e+01, 0.00000000e+00],\n",
       "       [6.30412484e-03, 1.70000000e+01, 0.00000000e+00],\n",
       "       [6.85271714e-03, 1.80000000e+01, 0.00000000e+00],\n",
       "       [6.91836420e-03, 1.90000000e+01, 0.00000000e+00],\n",
       "       [6.99002063e-03, 2.00000000e+01, 0.00000000e+00],\n",
       "       [7.31886318e-03, 2.10000000e+01, 0.00000000e+00],\n",
       "       [7.34732160e-03, 2.20000000e+01, 0.00000000e+00],\n",
       "       [7.36399787e-03, 2.30000000e+01, 0.00000000e+00],\n",
       "       [7.52801821e-03, 2.40000000e+01, 0.00000000e+00],\n",
       "       [7.62174977e-03, 2.50000000e+01, 0.00000000e+00],\n",
       "       [7.67366774e-03, 2.50000000e+01, 1.00000000e+00],\n",
       "       [7.71160331e-03, 2.50000000e+01, 0.00000000e+00],\n",
       "       [7.87044782e-03, 2.60000000e+01, 0.00000000e+00],\n",
       "       [7.91804120e-03, 2.70000000e+01, 0.00000000e+00],\n",
       "       [7.99085759e-03, 2.80000000e+01, 0.00000000e+00],\n",
       "       [8.04677233e-03, 2.90000000e+01, 0.00000000e+00],\n",
       "       [8.08209181e-03, 3.00000000e+01, 0.00000000e+00],\n",
       "       [8.11332557e-03, 3.10000000e+01, 0.00000000e+00],\n",
       "       [8.19199719e-03, 3.20000000e+01, 0.00000000e+00],\n",
       "       [8.23595189e-03, 3.30000000e+01, 0.00000000e+00],\n",
       "       [8.30532052e-03, 3.40000000e+01, 0.00000000e+00],\n",
       "       [8.37714784e-03, 3.50000000e+01, 0.00000000e+00],\n",
       "       [8.45190417e-03, 3.60000000e+01, 0.00000000e+00],\n",
       "       [8.45577754e-03, 3.70000000e+01, 0.00000000e+00],\n",
       "       [8.63157306e-03, 3.80000000e+01, 0.00000000e+00],\n",
       "       [8.65656696e-03, 3.80000000e+01, 1.00000000e+00],\n",
       "       [8.77186935e-03, 3.80000000e+01, 0.00000000e+00],\n",
       "       [9.04262625e-03, 3.90000000e+01, 0.00000000e+00],\n",
       "       [9.11634788e-03, 4.00000000e+01, 0.00000000e+00],\n",
       "       [9.16681718e-03, 4.00000000e+01, 1.00000000e+00],\n",
       "       [9.36616119e-03, 4.00000000e+01, 0.00000000e+00],\n",
       "       [9.38385911e-03, 4.10000000e+01, 0.00000000e+00],\n",
       "       [9.83145926e-03, 4.20000000e+01, 0.00000000e+00],\n",
       "       [9.96842142e-03, 4.30000000e+01, 0.00000000e+00],\n",
       "       [9.98376496e-03, 4.30000000e+01, 1.00000000e+00],\n",
       "       [1.00131100e-02, 4.30000000e+01, 0.00000000e+00],\n",
       "       [1.00416616e-02, 4.40000000e+01, 0.00000000e+00],\n",
       "       [1.01812650e-02, 4.50000000e+01, 0.00000000e+00],\n",
       "       [1.01879044e-02, 4.60000000e+01, 0.00000000e+00],\n",
       "       [1.02072936e-02, 4.60000000e+01, 1.00000000e+00],\n",
       "       [1.02323722e-02, 4.60000000e+01, 0.00000000e+00],\n",
       "       [1.03148455e-02, 4.70000000e+01, 0.00000000e+00],\n",
       "       [1.03778150e-02, 4.80000000e+01, 0.00000000e+00],\n",
       "       [1.03906794e-02, 4.90000000e+01, 0.00000000e+00],\n",
       "       [1.04363393e-02, 5.00000000e+01, 0.00000000e+00],\n",
       "       [1.05332509e-02, 5.10000000e+01, 0.00000000e+00],\n",
       "       [1.06797032e-02, 5.20000000e+01, 0.00000000e+00],\n",
       "       [1.07233906e-02, 5.30000000e+01, 0.00000000e+00],\n",
       "       [1.07443845e-02, 5.40000000e+01, 0.00000000e+00],\n",
       "       [1.07703023e-02, 5.50000000e+01, 0.00000000e+00],\n",
       "       [1.08074509e-02, 5.60000000e+01, 0.00000000e+00],\n",
       "       [1.09483730e-02, 5.60000000e+01, 1.00000000e+00],\n",
       "       [1.10634668e-02, 5.60000000e+01, 0.00000000e+00],\n",
       "       [1.11046163e-02, 5.70000000e+01, 0.00000000e+00],\n",
       "       [1.12634525e-02, 5.80000000e+01, 0.00000000e+00],\n",
       "       [1.12997228e-02, 5.90000000e+01, 0.00000000e+00],\n",
       "       [1.13617415e-02, 6.00000000e+01, 0.00000000e+00],\n",
       "       [1.13757020e-02, 6.10000000e+01, 0.00000000e+00],\n",
       "       [1.15084760e-02, 6.10000000e+01, 1.00000000e+00],\n",
       "       [1.16292778e-02, 6.00000000e+01, 1.00000000e+00],\n",
       "       [1.16644111e-02, 5.90000000e+01, 1.00000000e+00],\n",
       "       [1.18250474e-02, 5.90000000e+01, 0.00000000e+00],\n",
       "       [1.19649246e-02, 5.90000000e+01, 1.00000000e+00],\n",
       "       [1.21274125e-02, 5.90000000e+01, 0.00000000e+00],\n",
       "       [1.22296084e-02, 6.00000000e+01, 0.00000000e+00],\n",
       "       [1.22711491e-02, 6.10000000e+01, 0.00000000e+00],\n",
       "       [1.23841912e-02, 6.10000000e+01, 1.00000000e+00],\n",
       "       [1.23874294e-02, 6.10000000e+01, 0.00000000e+00],\n",
       "       [1.24259880e-02, 6.20000000e+01, 0.00000000e+00],\n",
       "       [1.24979038e-02, 6.30000000e+01, 0.00000000e+00],\n",
       "       [1.25662778e-02, 6.30000000e+01, 1.00000000e+00],\n",
       "       [1.29106138e-02, 6.30000000e+01, 0.00000000e+00],\n",
       "       [1.30045619e-02, 6.30000000e+01, 1.00000000e+00],\n",
       "       [1.30287735e-02, 6.30000000e+01, 0.00000000e+00],\n",
       "       [1.30692981e-02, 6.40000000e+01, 0.00000000e+00],\n",
       "       [1.30824968e-02, 6.40000000e+01, 1.00000000e+00],\n",
       "       [1.30846100e-02, 6.40000000e+01, 0.00000000e+00],\n",
       "       [1.31854229e-02, 6.50000000e+01, 0.00000000e+00],\n",
       "       [1.32170329e-02, 6.60000000e+01, 0.00000000e+00],\n",
       "       [1.32476902e-02, 6.70000000e+01, 0.00000000e+00],\n",
       "       [1.33641381e-02, 6.70000000e+01, 1.00000000e+00],\n",
       "       [1.34137589e-02, 6.60000000e+01, 1.00000000e+00],\n",
       "       [1.35138249e-02, 6.50000000e+01, 1.00000000e+00],\n",
       "       [1.35304714e-02, 6.50000000e+01, 0.00000000e+00],\n",
       "       [1.35316476e-02, 6.50000000e+01, 1.00000000e+00],\n",
       "       [1.36060026e-02, 6.50000000e+01, 0.00000000e+00],\n",
       "       [1.36913229e-02, 6.60000000e+01, 0.00000000e+00],\n",
       "       [1.37311518e-02, 6.60000000e+01, 1.00000000e+00],\n",
       "       [1.39579242e-02, 6.50000000e+01, 1.00000000e+00],\n",
       "       [1.40838530e-02, 6.50000000e+01, 0.00000000e+00],\n",
       "       [1.41582461e-02, 6.50000000e+01, 1.00000000e+00],\n",
       "       [1.42368963e-02, 6.50000000e+01, 0.00000000e+00],\n",
       "       [1.43143125e-02, 6.60000000e+01, 0.00000000e+00],\n",
       "       [1.43571757e-02, 6.70000000e+01, 0.00000000e+00],\n",
       "       [1.43984705e-02, 6.70000000e+01, 1.00000000e+00],\n",
       "       [1.44417975e-02, 6.60000000e+01, 1.00000000e+00],\n",
       "       [1.45311030e-02, 6.60000000e+01, 0.00000000e+00],\n",
       "       [1.45513751e-02, 6.60000000e+01, 1.00000000e+00],\n",
       "       [1.47193121e-02, 6.50000000e+01, 1.00000000e+00],\n",
       "       [1.47226341e-02, 6.40000000e+01, 1.00000000e+00],\n",
       "       [1.47239547e-02, 6.30000000e+01, 1.00000000e+00],\n",
       "       [1.48089705e-02, 6.30000000e+01, 0.00000000e+00],\n",
       "       [1.48933539e-02, 6.40000000e+01, 0.00000000e+00],\n",
       "       [1.49584962e-02, 6.50000000e+01, 0.00000000e+00],\n",
       "       [1.50558073e-02, 6.50000000e+01, 1.00000000e+00],\n",
       "       [1.51143409e-02, 6.40000000e+01, 1.00000000e+00],\n",
       "       [1.51310582e-02, 6.40000000e+01, 0.00000000e+00],\n",
       "       [1.51480846e-02, 6.40000000e+01, 1.00000000e+00],\n",
       "       [1.52280703e-02, 6.30000000e+01, 1.00000000e+00],\n",
       "       [1.52906254e-02, 6.20000000e+01, 1.00000000e+00],\n",
       "       [1.53433997e-02, 6.10000000e+01, 1.00000000e+00],\n",
       "       [1.53742172e-02, 6.10000000e+01, 0.00000000e+00],\n",
       "       [1.54042784e-02, 6.20000000e+01, 0.00000000e+00],\n",
       "       [1.54218525e-02, 6.20000000e+01, 1.00000000e+00],\n",
       "       [1.54511798e-02, 6.10000000e+01, 1.00000000e+00],\n",
       "       [1.55431554e-02, 6.00000000e+01, 1.00000000e+00],\n",
       "       [1.56865939e-02, 5.90000000e+01, 1.00000000e+00],\n",
       "       [1.60007831e-02, 5.80000000e+01, 1.00000000e+00],\n",
       "       [1.62523501e-02, 5.70000000e+01, 1.00000000e+00],\n",
       "       [1.63135938e-02, 5.70000000e+01, 0.00000000e+00],\n",
       "       [1.63593050e-02, 5.70000000e+01, 1.00000000e+00],\n",
       "       [1.65721327e-02, 5.60000000e+01, 1.00000000e+00],\n",
       "       [1.65870469e-02, 5.60000000e+01, 0.00000000e+00],\n",
       "       [1.66551769e-02, 5.60000000e+01, 1.00000000e+00],\n",
       "       [1.66676119e-02, 5.50000000e+01, 1.00000000e+00],\n",
       "       [1.66919995e-02, 5.40000000e+01, 1.00000000e+00],\n",
       "       [1.68004557e-02, 5.30000000e+01, 1.00000000e+00],\n",
       "       [1.70648713e-02, 5.20000000e+01, 1.00000000e+00],\n",
       "       [1.71106793e-02, 5.10000000e+01, 1.00000000e+00],\n",
       "       [1.71365794e-02, 5.00000000e+01, 1.00000000e+00],\n",
       "       [1.71804763e-02, 4.90000000e+01, 1.00000000e+00],\n",
       "       [1.72858201e-02, 4.80000000e+01, 1.00000000e+00],\n",
       "       [1.73229631e-02, 4.80000000e+01, 0.00000000e+00],\n",
       "       [1.73452310e-02, 4.80000000e+01, 1.00000000e+00],\n",
       "       [1.73617881e-02, 4.70000000e+01, 1.00000000e+00],\n",
       "       [1.74889788e-02, 4.60000000e+01, 1.00000000e+00],\n",
       "       [1.74985230e-02, 4.50000000e+01, 1.00000000e+00],\n",
       "       [1.76021717e-02, 4.40000000e+01, 1.00000000e+00],\n",
       "       [1.79152824e-02, 4.30000000e+01, 1.00000000e+00],\n",
       "       [1.80279315e-02, 4.20000000e+01, 1.00000000e+00],\n",
       "       [1.80320404e-02, 4.10000000e+01, 1.00000000e+00],\n",
       "       [1.85594037e-02, 4.00000000e+01, 1.00000000e+00],\n",
       "       [1.87675618e-02, 3.90000000e+01, 1.00000000e+00],\n",
       "       [1.88134853e-02, 3.80000000e+01, 1.00000000e+00],\n",
       "       [1.88153740e-02, 3.70000000e+01, 1.00000000e+00],\n",
       "       [1.88526064e-02, 3.60000000e+01, 1.00000000e+00],\n",
       "       [1.89375393e-02, 3.50000000e+01, 1.00000000e+00],\n",
       "       [1.89500283e-02, 3.40000000e+01, 1.00000000e+00],\n",
       "       [1.89552568e-02, 3.40000000e+01, 0.00000000e+00],\n",
       "       [1.90590508e-02, 3.40000000e+01, 1.00000000e+00],\n",
       "       [1.90887675e-02, 3.30000000e+01, 1.00000000e+00],\n",
       "       [1.91174317e-02, 3.20000000e+01, 1.00000000e+00],\n",
       "       [1.92451179e-02, 3.10000000e+01, 1.00000000e+00],\n",
       "       [1.93235669e-02, 3.00000000e+01, 1.00000000e+00],\n",
       "       [1.93389095e-02, 2.90000000e+01, 1.00000000e+00],\n",
       "       [1.95143931e-02, 2.80000000e+01, 1.00000000e+00],\n",
       "       [1.95882432e-02, 2.70000000e+01, 1.00000000e+00],\n",
       "       [1.96359158e-02, 2.60000000e+01, 1.00000000e+00],\n",
       "       [1.99029259e-02, 2.50000000e+01, 1.00000000e+00],\n",
       "       [1.99779700e-02, 2.40000000e+01, 1.00000000e+00],\n",
       "       [1.99935678e-02, 2.30000000e+01, 1.00000000e+00],\n",
       "       [2.01008394e-02, 2.20000000e+01, 1.00000000e+00],\n",
       "       [2.03052871e-02, 2.10000000e+01, 1.00000000e+00],\n",
       "       [2.04142239e-02, 2.10000000e+01, 0.00000000e+00],\n",
       "       [2.07378455e-02, 2.10000000e+01, 1.00000000e+00],\n",
       "       [2.09233984e-02, 2.00000000e+01, 1.00000000e+00],\n",
       "       [2.11952385e-02, 1.90000000e+01, 1.00000000e+00],\n",
       "       [2.14319415e-02, 1.80000000e+01, 1.00000000e+00],\n",
       "       [2.14964263e-02, 1.70000000e+01, 1.00000000e+00],\n",
       "       [2.15059407e-02, 1.60000000e+01, 1.00000000e+00],\n",
       "       [2.15171296e-02, 1.50000000e+01, 1.00000000e+00],\n",
       "       [2.20385492e-02, 1.40000000e+01, 1.00000000e+00],\n",
       "       [2.24441011e-02, 1.30000000e+01, 1.00000000e+00],\n",
       "       [2.24883556e-02, 1.20000000e+01, 1.00000000e+00],\n",
       "       [2.26040352e-02, 1.10000000e+01, 1.00000000e+00],\n",
       "       [2.26303022e-02, 1.00000000e+01, 1.00000000e+00],\n",
       "       [2.26765424e-02, 9.00000000e+00, 1.00000000e+00],\n",
       "       [2.30595134e-02, 8.00000000e+00, 1.00000000e+00],\n",
       "       [2.33417638e-02, 7.00000000e+00, 1.00000000e+00],\n",
       "       [2.33604275e-02, 6.00000000e+00, 1.00000000e+00],\n",
       "       [2.35349275e-02, 5.00000000e+00, 1.00000000e+00],\n",
       "       [2.38829739e-02, 4.00000000e+00, 1.00000000e+00],\n",
       "       [2.47616768e-02, 3.00000000e+00, 1.00000000e+00],\n",
       "       [2.53258999e-02, 2.00000000e+00, 1.00000000e+00],\n",
       "       [2.53739469e-02, 1.00000000e+00, 1.00000000e+00]])"
      ]
     },
     "execution_count": 89,
     "metadata": {},
     "output_type": "execute_result"
    }
   ],
   "source": [
    "values"
   ]
  },
  {
   "cell_type": "code",
   "execution_count": 87,
   "id": "2f9b59fd7c80a420",
   "metadata": {
    "ExecuteTime": {
     "end_time": "2024-03-08T14:04:33.981716800Z",
     "start_time": "2024-03-08T14:04:33.960253600Z"
    },
    "collapsed": false
   },
   "outputs": [],
   "source": [
    "\n",
    "edges = np.copy(conf_intervals[net].reshape(-1, order = 'F'))\n",
    "side = np.tile(0, edges.shape)\n",
    "side[100:] = 1\n",
    "amounts = np.copy(np.append(L_amount,U_amount))\n",
    "# put all together into an array\n",
    "values = np.stack((edges, amounts, side), axis = 1)\n",
    "\n",
    "# sort by first index\n",
    "ind = np.argsort(values[:,0])\n",
    "\n",
    "values = values[ind]\n"
   ]
  },
  {
   "cell_type": "code",
   "execution_count": 92,
   "id": "c3a78ca54298b343",
   "metadata": {
    "ExecuteTime": {
     "end_time": "2024-03-08T14:56:29.904861200Z",
     "start_time": "2024-03-08T14:56:29.873745600Z"
    },
    "collapsed": false
   },
   "outputs": [
    {
     "data": {
      "text/plain": [
       "array([[2.34508025e-03, 1.00000000e+00, 0.00000000e+00],\n",
       "       [2.59183720e-03, 2.00000000e+00, 0.00000000e+00],\n",
       "       [3.47141968e-03, 3.00000000e+00, 0.00000000e+00],\n",
       "       [4.40136995e-03, 4.00000000e+00, 0.00000000e+00],\n",
       "       [4.43339907e-03, 5.00000000e+00, 0.00000000e+00],\n",
       "       [4.70627612e-03, 6.00000000e+00, 0.00000000e+00],\n",
       "       [5.35291107e-03, 7.00000000e+00, 0.00000000e+00],\n",
       "       [5.38963685e-03, 8.00000000e+00, 0.00000000e+00],\n",
       "       [5.49558923e-03, 9.00000000e+00, 0.00000000e+00],\n",
       "       [5.50533971e-03, 1.00000000e+01, 0.00000000e+00],\n",
       "       [5.58447186e-03, 1.10000000e+01, 0.00000000e+00],\n",
       "       [5.65358205e-03, 1.20000000e+01, 0.00000000e+00],\n",
       "       [5.69515256e-03, 1.30000000e+01, 0.00000000e+00],\n",
       "       [6.01633964e-03, 1.40000000e+01, 0.00000000e+00],\n",
       "       [6.15866249e-03, 1.50000000e+01, 0.00000000e+00],\n",
       "       [6.15907693e-03, 1.60000000e+01, 0.00000000e+00],\n",
       "       [6.30412484e-03, 1.70000000e+01, 0.00000000e+00],\n",
       "       [6.85271714e-03, 1.80000000e+01, 0.00000000e+00],\n",
       "       [6.91836420e-03, 1.90000000e+01, 0.00000000e+00],\n",
       "       [6.99002063e-03, 2.00000000e+01, 0.00000000e+00],\n",
       "       [7.31886318e-03, 2.10000000e+01, 0.00000000e+00],\n",
       "       [7.34732160e-03, 2.20000000e+01, 0.00000000e+00],\n",
       "       [7.36399787e-03, 2.30000000e+01, 0.00000000e+00],\n",
       "       [7.52801821e-03, 2.40000000e+01, 0.00000000e+00],\n",
       "       [7.62174977e-03, 2.50000000e+01, 0.00000000e+00],\n",
       "       [7.67366774e-03, 2.50000000e+01, 1.00000000e+00],\n",
       "       [7.71160331e-03, 2.50000000e+01, 0.00000000e+00],\n",
       "       [7.87044782e-03, 2.60000000e+01, 0.00000000e+00],\n",
       "       [7.91804120e-03, 2.70000000e+01, 0.00000000e+00],\n",
       "       [7.99085759e-03, 2.80000000e+01, 0.00000000e+00],\n",
       "       [8.04677233e-03, 2.90000000e+01, 0.00000000e+00],\n",
       "       [8.08209181e-03, 3.00000000e+01, 0.00000000e+00],\n",
       "       [8.11332557e-03, 3.10000000e+01, 0.00000000e+00],\n",
       "       [8.19199719e-03, 3.20000000e+01, 0.00000000e+00],\n",
       "       [8.23595189e-03, 3.30000000e+01, 0.00000000e+00],\n",
       "       [8.30532052e-03, 3.40000000e+01, 0.00000000e+00],\n",
       "       [8.37714784e-03, 3.50000000e+01, 0.00000000e+00],\n",
       "       [8.45190417e-03, 3.60000000e+01, 0.00000000e+00],\n",
       "       [8.45577754e-03, 3.70000000e+01, 0.00000000e+00],\n",
       "       [8.63157306e-03, 3.80000000e+01, 0.00000000e+00],\n",
       "       [8.65656696e-03, 3.80000000e+01, 1.00000000e+00],\n",
       "       [8.77186935e-03, 3.80000000e+01, 0.00000000e+00],\n",
       "       [9.04262625e-03, 3.90000000e+01, 0.00000000e+00],\n",
       "       [9.11634788e-03, 4.00000000e+01, 0.00000000e+00],\n",
       "       [9.16681718e-03, 4.00000000e+01, 1.00000000e+00],\n",
       "       [9.36616119e-03, 4.00000000e+01, 0.00000000e+00],\n",
       "       [9.38385911e-03, 4.10000000e+01, 0.00000000e+00],\n",
       "       [9.83145926e-03, 4.20000000e+01, 0.00000000e+00],\n",
       "       [9.96842142e-03, 4.30000000e+01, 0.00000000e+00],\n",
       "       [9.98376496e-03, 4.30000000e+01, 1.00000000e+00],\n",
       "       [1.00131100e-02, 4.30000000e+01, 0.00000000e+00],\n",
       "       [1.00416616e-02, 4.40000000e+01, 0.00000000e+00],\n",
       "       [1.01812650e-02, 4.50000000e+01, 0.00000000e+00],\n",
       "       [1.01879044e-02, 4.60000000e+01, 0.00000000e+00],\n",
       "       [1.02072936e-02, 4.60000000e+01, 1.00000000e+00],\n",
       "       [1.02323722e-02, 4.60000000e+01, 0.00000000e+00],\n",
       "       [1.03148455e-02, 4.70000000e+01, 0.00000000e+00],\n",
       "       [1.03778150e-02, 4.80000000e+01, 0.00000000e+00],\n",
       "       [1.03906794e-02, 4.90000000e+01, 0.00000000e+00],\n",
       "       [1.04363393e-02, 5.00000000e+01, 0.00000000e+00],\n",
       "       [1.05332509e-02, 5.10000000e+01, 0.00000000e+00],\n",
       "       [1.06797032e-02, 5.20000000e+01, 0.00000000e+00],\n",
       "       [1.07233906e-02, 5.30000000e+01, 0.00000000e+00],\n",
       "       [1.07443845e-02, 5.40000000e+01, 0.00000000e+00],\n",
       "       [1.07703023e-02, 5.50000000e+01, 0.00000000e+00],\n",
       "       [1.08074509e-02, 5.60000000e+01, 0.00000000e+00],\n",
       "       [1.09483730e-02, 5.60000000e+01, 1.00000000e+00],\n",
       "       [1.10634668e-02, 5.60000000e+01, 0.00000000e+00],\n",
       "       [1.11046163e-02, 5.70000000e+01, 0.00000000e+00],\n",
       "       [1.12634525e-02, 5.80000000e+01, 0.00000000e+00],\n",
       "       [1.12997228e-02, 5.90000000e+01, 0.00000000e+00],\n",
       "       [1.13617415e-02, 6.00000000e+01, 0.00000000e+00],\n",
       "       [1.13757020e-02, 6.10000000e+01, 0.00000000e+00],\n",
       "       [1.15084760e-02, 6.10000000e+01, 1.00000000e+00],\n",
       "       [1.16292778e-02, 6.00000000e+01, 1.00000000e+00],\n",
       "       [1.16644111e-02, 5.90000000e+01, 1.00000000e+00],\n",
       "       [1.18250474e-02, 5.90000000e+01, 0.00000000e+00],\n",
       "       [1.19649246e-02, 5.90000000e+01, 1.00000000e+00],\n",
       "       [1.21274125e-02, 5.90000000e+01, 0.00000000e+00],\n",
       "       [1.22296084e-02, 6.00000000e+01, 0.00000000e+00],\n",
       "       [1.22711491e-02, 6.10000000e+01, 0.00000000e+00],\n",
       "       [1.23841912e-02, 6.10000000e+01, 1.00000000e+00],\n",
       "       [1.23874294e-02, 6.10000000e+01, 0.00000000e+00],\n",
       "       [1.24259880e-02, 6.20000000e+01, 0.00000000e+00],\n",
       "       [1.24979038e-02, 6.30000000e+01, 0.00000000e+00],\n",
       "       [1.25662778e-02, 6.30000000e+01, 1.00000000e+00],\n",
       "       [1.29106138e-02, 6.30000000e+01, 0.00000000e+00],\n",
       "       [1.30045619e-02, 6.30000000e+01, 1.00000000e+00],\n",
       "       [1.30287735e-02, 6.30000000e+01, 0.00000000e+00],\n",
       "       [1.30692981e-02, 6.40000000e+01, 0.00000000e+00],\n",
       "       [1.30824968e-02, 6.40000000e+01, 1.00000000e+00],\n",
       "       [1.30846100e-02, 6.40000000e+01, 0.00000000e+00],\n",
       "       [1.31854229e-02, 6.50000000e+01, 0.00000000e+00],\n",
       "       [1.32170329e-02, 6.60000000e+01, 0.00000000e+00],\n",
       "       [1.32476902e-02, 6.70000000e+01, 0.00000000e+00],\n",
       "       [1.33641381e-02, 6.70000000e+01, 1.00000000e+00],\n",
       "       [1.34137589e-02, 6.60000000e+01, 1.00000000e+00],\n",
       "       [1.35138249e-02, 6.50000000e+01, 1.00000000e+00],\n",
       "       [1.35304714e-02, 6.50000000e+01, 0.00000000e+00],\n",
       "       [1.35316476e-02, 6.50000000e+01, 1.00000000e+00],\n",
       "       [1.36060026e-02, 6.50000000e+01, 0.00000000e+00],\n",
       "       [1.36913229e-02, 6.60000000e+01, 0.00000000e+00],\n",
       "       [1.37311518e-02, 6.60000000e+01, 1.00000000e+00],\n",
       "       [1.39579242e-02, 6.50000000e+01, 1.00000000e+00],\n",
       "       [1.40838530e-02, 6.50000000e+01, 0.00000000e+00],\n",
       "       [1.41582461e-02, 6.50000000e+01, 1.00000000e+00],\n",
       "       [1.42368963e-02, 6.50000000e+01, 0.00000000e+00],\n",
       "       [1.43143125e-02, 6.60000000e+01, 0.00000000e+00],\n",
       "       [1.43571757e-02, 6.70000000e+01, 0.00000000e+00],\n",
       "       [1.43984705e-02, 6.70000000e+01, 1.00000000e+00],\n",
       "       [1.44417975e-02, 6.60000000e+01, 1.00000000e+00],\n",
       "       [1.45311030e-02, 6.60000000e+01, 0.00000000e+00],\n",
       "       [1.45513751e-02, 6.60000000e+01, 1.00000000e+00],\n",
       "       [1.47193121e-02, 6.50000000e+01, 1.00000000e+00],\n",
       "       [1.47226341e-02, 6.40000000e+01, 1.00000000e+00],\n",
       "       [1.47239547e-02, 6.30000000e+01, 1.00000000e+00],\n",
       "       [1.48089705e-02, 6.30000000e+01, 0.00000000e+00],\n",
       "       [1.48933539e-02, 6.40000000e+01, 0.00000000e+00],\n",
       "       [1.49584962e-02, 6.50000000e+01, 0.00000000e+00],\n",
       "       [1.50558073e-02, 6.50000000e+01, 1.00000000e+00],\n",
       "       [1.51143409e-02, 6.40000000e+01, 1.00000000e+00],\n",
       "       [1.51310582e-02, 6.40000000e+01, 0.00000000e+00],\n",
       "       [1.51480846e-02, 6.40000000e+01, 1.00000000e+00],\n",
       "       [1.52280703e-02, 6.30000000e+01, 1.00000000e+00],\n",
       "       [1.52906254e-02, 6.20000000e+01, 1.00000000e+00],\n",
       "       [1.53433997e-02, 6.10000000e+01, 1.00000000e+00],\n",
       "       [1.53742172e-02, 6.10000000e+01, 0.00000000e+00],\n",
       "       [1.54042784e-02, 6.20000000e+01, 0.00000000e+00],\n",
       "       [1.54218525e-02, 6.20000000e+01, 1.00000000e+00],\n",
       "       [1.54511798e-02, 6.10000000e+01, 1.00000000e+00],\n",
       "       [1.55431554e-02, 6.00000000e+01, 1.00000000e+00],\n",
       "       [1.56865939e-02, 5.90000000e+01, 1.00000000e+00],\n",
       "       [1.60007831e-02, 5.80000000e+01, 1.00000000e+00],\n",
       "       [1.62523501e-02, 5.70000000e+01, 1.00000000e+00],\n",
       "       [1.63135938e-02, 5.70000000e+01, 0.00000000e+00],\n",
       "       [1.63593050e-02, 5.70000000e+01, 1.00000000e+00],\n",
       "       [1.65721327e-02, 5.60000000e+01, 1.00000000e+00],\n",
       "       [1.65870469e-02, 5.60000000e+01, 0.00000000e+00],\n",
       "       [1.66551769e-02, 5.60000000e+01, 1.00000000e+00],\n",
       "       [1.66676119e-02, 5.50000000e+01, 1.00000000e+00],\n",
       "       [1.66919995e-02, 5.40000000e+01, 1.00000000e+00],\n",
       "       [1.68004557e-02, 5.30000000e+01, 1.00000000e+00],\n",
       "       [1.70648713e-02, 5.20000000e+01, 1.00000000e+00],\n",
       "       [1.71106793e-02, 5.10000000e+01, 1.00000000e+00],\n",
       "       [1.71365794e-02, 5.00000000e+01, 1.00000000e+00],\n",
       "       [1.71804763e-02, 4.90000000e+01, 1.00000000e+00],\n",
       "       [1.72858201e-02, 4.80000000e+01, 1.00000000e+00],\n",
       "       [1.73229631e-02, 4.80000000e+01, 0.00000000e+00],\n",
       "       [1.73452310e-02, 4.80000000e+01, 1.00000000e+00],\n",
       "       [1.73617881e-02, 4.70000000e+01, 1.00000000e+00],\n",
       "       [1.74889788e-02, 4.60000000e+01, 1.00000000e+00],\n",
       "       [1.74985230e-02, 4.50000000e+01, 1.00000000e+00],\n",
       "       [1.76021717e-02, 4.40000000e+01, 1.00000000e+00],\n",
       "       [1.79152824e-02, 4.30000000e+01, 1.00000000e+00],\n",
       "       [1.80279315e-02, 4.20000000e+01, 1.00000000e+00],\n",
       "       [1.80320404e-02, 4.10000000e+01, 1.00000000e+00],\n",
       "       [1.85594037e-02, 4.00000000e+01, 1.00000000e+00],\n",
       "       [1.87675618e-02, 3.90000000e+01, 1.00000000e+00],\n",
       "       [1.88134853e-02, 3.80000000e+01, 1.00000000e+00],\n",
       "       [1.88153740e-02, 3.70000000e+01, 1.00000000e+00],\n",
       "       [1.88526064e-02, 3.60000000e+01, 1.00000000e+00],\n",
       "       [1.89375393e-02, 3.50000000e+01, 1.00000000e+00],\n",
       "       [1.89500283e-02, 3.40000000e+01, 1.00000000e+00],\n",
       "       [1.89552568e-02, 3.40000000e+01, 0.00000000e+00],\n",
       "       [1.90590508e-02, 3.40000000e+01, 1.00000000e+00],\n",
       "       [1.90887675e-02, 3.30000000e+01, 1.00000000e+00],\n",
       "       [1.91174317e-02, 3.20000000e+01, 1.00000000e+00],\n",
       "       [1.92451179e-02, 3.10000000e+01, 1.00000000e+00],\n",
       "       [1.93235669e-02, 3.00000000e+01, 1.00000000e+00],\n",
       "       [1.93389095e-02, 2.90000000e+01, 1.00000000e+00],\n",
       "       [1.95143931e-02, 2.80000000e+01, 1.00000000e+00],\n",
       "       [1.95882432e-02, 2.70000000e+01, 1.00000000e+00],\n",
       "       [1.96359158e-02, 2.60000000e+01, 1.00000000e+00],\n",
       "       [1.99029259e-02, 2.50000000e+01, 1.00000000e+00],\n",
       "       [1.99779700e-02, 2.40000000e+01, 1.00000000e+00],\n",
       "       [1.99935678e-02, 2.30000000e+01, 1.00000000e+00],\n",
       "       [2.01008394e-02, 2.20000000e+01, 1.00000000e+00],\n",
       "       [2.03052871e-02, 2.10000000e+01, 1.00000000e+00],\n",
       "       [2.04142239e-02, 2.10000000e+01, 0.00000000e+00],\n",
       "       [2.07378455e-02, 2.10000000e+01, 1.00000000e+00],\n",
       "       [2.09233984e-02, 2.00000000e+01, 1.00000000e+00],\n",
       "       [2.11952385e-02, 1.90000000e+01, 1.00000000e+00],\n",
       "       [2.14319415e-02, 1.80000000e+01, 1.00000000e+00],\n",
       "       [2.14964263e-02, 1.70000000e+01, 1.00000000e+00],\n",
       "       [2.15059407e-02, 1.60000000e+01, 1.00000000e+00],\n",
       "       [2.15171296e-02, 1.50000000e+01, 1.00000000e+00],\n",
       "       [2.20385492e-02, 1.40000000e+01, 1.00000000e+00],\n",
       "       [2.24441011e-02, 1.30000000e+01, 1.00000000e+00],\n",
       "       [2.24883556e-02, 1.20000000e+01, 1.00000000e+00],\n",
       "       [2.26040352e-02, 1.10000000e+01, 1.00000000e+00],\n",
       "       [2.26303022e-02, 1.00000000e+01, 1.00000000e+00],\n",
       "       [2.26765424e-02, 9.00000000e+00, 1.00000000e+00],\n",
       "       [2.30595134e-02, 8.00000000e+00, 1.00000000e+00],\n",
       "       [2.33417638e-02, 7.00000000e+00, 1.00000000e+00],\n",
       "       [2.33604275e-02, 6.00000000e+00, 1.00000000e+00],\n",
       "       [2.35349275e-02, 5.00000000e+00, 1.00000000e+00],\n",
       "       [2.38829739e-02, 4.00000000e+00, 1.00000000e+00],\n",
       "       [2.47616768e-02, 3.00000000e+00, 1.00000000e+00],\n",
       "       [2.53258999e-02, 2.00000000e+00, 1.00000000e+00],\n",
       "       [2.53739469e-02, 1.00000000e+00, 1.00000000e+00]])"
      ]
     },
     "execution_count": 92,
     "metadata": {},
     "output_type": "execute_result"
    }
   ],
   "source": [
    "values"
   ]
  },
  {
   "cell_type": "code",
   "execution_count": 100,
   "id": "bc4dcfad52367d24",
   "metadata": {
    "ExecuteTime": {
     "end_time": "2024-03-08T15:01:47.621525600Z",
     "start_time": "2024-03-08T15:01:47.594996600Z"
    },
    "collapsed": false
   },
   "outputs": [],
   "source": [
    "amounts = []\n",
    "for i in range(len(values)-1):\n",
    "    if values[i,2] == 0:\n",
    "        amounts.append(values[i,1])\n",
    "    else:            \n",
    "        if values[i+1,2] == 1:\n",
    "            amounts.append(values[i+1,1])\n",
    "        else:\n",
    "            amounts.append(values[i,1]-1)"
   ]
  },
  {
   "cell_type": "code",
   "execution_count": 101,
   "id": "a815d17f92d7558f",
   "metadata": {
    "ExecuteTime": {
     "end_time": "2024-03-08T15:01:48.190572200Z",
     "start_time": "2024-03-08T15:01:48.177945300Z"
    },
    "collapsed": false
   },
   "outputs": [
    {
     "data": {
      "text/plain": [
       "[1.0,\n",
       " 2.0,\n",
       " 3.0,\n",
       " 4.0,\n",
       " 5.0,\n",
       " 6.0,\n",
       " 7.0,\n",
       " 8.0,\n",
       " 9.0,\n",
       " 10.0,\n",
       " 11.0,\n",
       " 12.0,\n",
       " 13.0,\n",
       " 14.0,\n",
       " 15.0,\n",
       " 16.0,\n",
       " 17.0,\n",
       " 18.0,\n",
       " 19.0,\n",
       " 20.0,\n",
       " 21.0,\n",
       " 22.0,\n",
       " 23.0,\n",
       " 24.0,\n",
       " 25.0,\n",
       " 24.0,\n",
       " 25.0,\n",
       " 26.0,\n",
       " 27.0,\n",
       " 28.0,\n",
       " 29.0,\n",
       " 30.0,\n",
       " 31.0,\n",
       " 32.0,\n",
       " 33.0,\n",
       " 34.0,\n",
       " 35.0,\n",
       " 36.0,\n",
       " 37.0,\n",
       " 38.0,\n",
       " 37.0,\n",
       " 38.0,\n",
       " 39.0,\n",
       " 40.0,\n",
       " 39.0,\n",
       " 40.0,\n",
       " 41.0,\n",
       " 42.0,\n",
       " 43.0,\n",
       " 42.0,\n",
       " 43.0,\n",
       " 44.0,\n",
       " 45.0,\n",
       " 46.0,\n",
       " 45.0,\n",
       " 46.0,\n",
       " 47.0,\n",
       " 48.0,\n",
       " 49.0,\n",
       " 50.0,\n",
       " 51.0,\n",
       " 52.0,\n",
       " 53.0,\n",
       " 54.0,\n",
       " 55.0,\n",
       " 56.0,\n",
       " 55.0,\n",
       " 56.0,\n",
       " 57.0,\n",
       " 58.0,\n",
       " 59.0,\n",
       " 60.0,\n",
       " 61.0,\n",
       " 60.0,\n",
       " 59.0,\n",
       " 58.0,\n",
       " 59.0,\n",
       " 58.0,\n",
       " 59.0,\n",
       " 60.0,\n",
       " 61.0,\n",
       " 60.0,\n",
       " 61.0,\n",
       " 62.0,\n",
       " 63.0,\n",
       " 62.0,\n",
       " 63.0,\n",
       " 62.0,\n",
       " 63.0,\n",
       " 64.0,\n",
       " 63.0,\n",
       " 64.0,\n",
       " 65.0,\n",
       " 66.0,\n",
       " 67.0,\n",
       " 66.0,\n",
       " 65.0,\n",
       " 64.0,\n",
       " 65.0,\n",
       " 64.0,\n",
       " 65.0,\n",
       " 66.0,\n",
       " 65.0,\n",
       " 64.0,\n",
       " 65.0,\n",
       " 64.0,\n",
       " 65.0,\n",
       " 66.0,\n",
       " 67.0,\n",
       " 66.0,\n",
       " 65.0,\n",
       " 66.0,\n",
       " 65.0,\n",
       " 64.0,\n",
       " 63.0,\n",
       " 62.0,\n",
       " 63.0,\n",
       " 64.0,\n",
       " 65.0,\n",
       " 64.0,\n",
       " 63.0,\n",
       " 64.0,\n",
       " 63.0,\n",
       " 62.0,\n",
       " 61.0,\n",
       " 60.0,\n",
       " 61.0,\n",
       " 62.0,\n",
       " 61.0,\n",
       " 60.0,\n",
       " 59.0,\n",
       " 58.0,\n",
       " 57.0,\n",
       " 56.0,\n",
       " 57.0,\n",
       " 56.0,\n",
       " 55.0,\n",
       " 56.0,\n",
       " 55.0,\n",
       " 54.0,\n",
       " 53.0,\n",
       " 52.0,\n",
       " 51.0,\n",
       " 50.0,\n",
       " 49.0,\n",
       " 48.0,\n",
       " 47.0,\n",
       " 48.0,\n",
       " 47.0,\n",
       " 46.0,\n",
       " 45.0,\n",
       " 44.0,\n",
       " 43.0,\n",
       " 42.0,\n",
       " 41.0,\n",
       " 40.0,\n",
       " 39.0,\n",
       " 38.0,\n",
       " 37.0,\n",
       " 36.0,\n",
       " 35.0,\n",
       " 34.0,\n",
       " 33.0,\n",
       " 34.0,\n",
       " 33.0,\n",
       " 32.0,\n",
       " 31.0,\n",
       " 30.0,\n",
       " 29.0,\n",
       " 28.0,\n",
       " 27.0,\n",
       " 26.0,\n",
       " 25.0,\n",
       " 24.0,\n",
       " 23.0,\n",
       " 22.0,\n",
       " 21.0,\n",
       " 20.0,\n",
       " 21.0,\n",
       " 20.0,\n",
       " 19.0,\n",
       " 18.0,\n",
       " 17.0,\n",
       " 16.0,\n",
       " 15.0,\n",
       " 14.0,\n",
       " 13.0,\n",
       " 12.0,\n",
       " 11.0,\n",
       " 10.0,\n",
       " 9.0,\n",
       " 8.0,\n",
       " 7.0,\n",
       " 6.0,\n",
       " 5.0,\n",
       " 4.0,\n",
       " 3.0,\n",
       " 2.0,\n",
       " 1.0]"
      ]
     },
     "execution_count": 101,
     "metadata": {},
     "output_type": "execute_result"
    }
   ],
   "source": [
    "amounts"
   ]
  },
  {
   "cell_type": "code",
   "execution_count": 103,
   "id": "acc46def40ec96e3",
   "metadata": {
    "ExecuteTime": {
     "end_time": "2024-03-08T15:02:33.997265500Z",
     "start_time": "2024-03-08T15:02:33.872234700Z"
    },
    "collapsed": false
   },
   "outputs": [
    {
     "data": {
      "text/plain": [
       "<matplotlib.patches.StepPatch at 0x258c74afd90>"
      ]
     },
     "execution_count": 103,
     "metadata": {},
     "output_type": "execute_result"
    },
    {
     "data": {
      "image/png": "[encoded data removed]",
      "text/plain": [
       "<Figure size 640x480 with 1 Axes>"
      ]
     },
     "metadata": {},
     "output_type": "display_data"
    }
   ],
   "source": [
    "plt.stairs(amounts,values[:,0])"
   ]
  },
  {
   "cell_type": "code",
   "execution_count": 88,
   "id": "2ae8ff120698fec1",
   "metadata": {
    "ExecuteTime": {
     "end_time": "2024-03-08T14:04:34.550311300Z",
     "start_time": "2024-03-08T14:04:34.415587700Z"
    },
    "collapsed": false
   },
   "outputs": [
    {
     "data": {
      "text/plain": [
       "<matplotlib.collections.PathCollection at 0x258c416a8d0>"
      ]
     },
     "execution_count": 88,
     "metadata": {},
     "output_type": "execute_result"
    },
    {
     "data": {
      "image/png": "[encoded data removed]",
      "text/plain": [
       "<Figure size 640x480 with 1 Axes>"
      ]
     },
     "metadata": {},
     "output_type": "display_data"
    }
   ],
   "source": [
    "\n",
    "plt.scatter(conf_intervals[net,:,0],L_amount/100, s = 5)\n",
    "plt.scatter(conf_intervals[net,:,1],U_amount/100, s = 5)"
   ]
  },
  {
   "cell_type": "code",
   "execution_count": 104,
   "id": "741b1cbc7f99f787",
   "metadata": {
    "ExecuteTime": {
     "end_time": "2024-03-08T15:07:38.109088Z",
     "start_time": "2024-03-08T15:07:36.779437600Z"
    },
    "collapsed": false
   },
   "outputs": [
    {
     "data": {
      "image/png": "[encoded data removed]",
      "text/plain": [
       "<Figure size 640x480 with 1 Axes>"
      ]
     },
     "metadata": {},
     "output_type": "display_data"
    },
    {
     "data": {
      "image/png": "[encoded data removed]",
      "text/plain": [
       "<Figure size 640x480 with 1 Axes>"
      ]
     },
     "metadata": {},
     "output_type": "display_data"
    },
    {
     "data": {
      "image/png": "[encoded data removed]",
      "text/plain": [
       "<Figure size 640x480 with 1 Axes>"
      ]
     },
     "metadata": {},
     "output_type": "display_data"
    }
   ],
   "source": [
    "for net in range(len(networks)):\n",
    "    # make histogram\n",
    "    # first check lower bounds\n",
    "    L_bigger_than_lower_bound = conf_intervals[net,:,0][:,np.newaxis] >= conf_intervals[net,:,0][np.newaxis,:]\n",
    "    L_smaller_than_upper_bound = conf_intervals[net,:,0][:,np.newaxis] < conf_intervals[net,:,1][np.newaxis,:]\n",
    "    \n",
    "    # then check upper bounds\n",
    "    U_smaller_than_upper_bound = conf_intervals[net,:,1][:,np.newaxis] <= conf_intervals[net,:,1][np.newaxis,:]\n",
    "    U_bigger_than_lower_bound = conf_intervals[net,:,1][:,np.newaxis] > conf_intervals[net,:,0][np.newaxis,:]\n",
    "    \n",
    "    # count amount\n",
    "    L_amount = (L_bigger_than_lower_bound*L_smaller_than_upper_bound).sum(axis=1)\n",
    "    U_amount = (U_smaller_than_upper_bound*U_bigger_than_lower_bound).sum(axis=1)\n",
    "    \n",
    "    # stairs\n",
    "    edges = np.copy(conf_intervals[net].reshape(-1, order = 'F'))\n",
    "    side = np.tile(0, edges.shape)\n",
    "    side[100:] = 1\n",
    "    amounts = np.copy(np.append(L_amount,U_amount))\n",
    "    # put all together into an array\n",
    "    values = np.stack((edges, amounts, side), axis = 1)\n",
    "    \n",
    "    # sort by first index\n",
    "    ind = np.argsort(values[:,0])\n",
    "    \n",
    "    values = values[ind]\n",
    "    \n",
    "    amounts = []\n",
    "    for i in range(len(values)-1):\n",
    "        if values[i,2] == 0:\n",
    "            amounts.append(values[i,1])\n",
    "        else:            \n",
    "            if values[i+1,2] == 1:\n",
    "                amounts.append(values[i+1,1])\n",
    "            else:\n",
    "                amounts.append(values[i,1]-1)\n",
    "    \n",
    "    # new figure\n",
    "    fig, ax = plt.subplots()\n",
    "    ax.stairs(amounts,values[:,0])\n",
    "    \n",
    "    # also show vline for confidence interval\n",
    "    quantile, lower, upper = get_quantile(networks[net], 0.05)\n",
    "    ax.axvline(lower, color='y', label='true 95% confidence interval')\n",
    "    ax.axvline(upper+0.002, color='y')\n",
    "    \n",
    "    # xlim is from 0 to 0.05\n",
    "    ax.set_xlim(0, 0.05)\n",
    "    ax.set_ylim(0, 100)\n",
    "    \n",
    "    # labels\n",
    "    ax.set_xlabel('epsilon')\n",
    "    ax.set_ylabel('frequency')\n",
    "    \n",
    "    # make legend smaller\n",
    "    ax.legend(loc='upper right')\n",
    "    \n",
    "    # title\n",
    "    ax.set_title('network ' + networks[net])\n",
    "    \n",
    "    # save figure\n",
    "    fig.savefig('Figures/histogram_' + networks[net] + '.pdf', bbox_inches='tight', dpi=300)"
   ]
  },
  {
   "cell_type": "code",
   "execution_count": 79,
   "id": "90499439733b9991",
   "metadata": {
    "ExecuteTime": {
     "end_time": "2024-02-27T19:38:18.464861100Z",
     "start_time": "2024-02-27T19:38:18.415793300Z"
    },
    "collapsed": false
   },
   "outputs": [
    {
     "data": {
      "text/plain": [
       "array([[[0.00416417, 0.01103343],\n",
       "        [0.01238666, 0.01597477],\n",
       "        [0.01394664, 0.01913021],\n",
       "        [0.01211357, 0.02023061],\n",
       "        [0.00803274, 0.01053541],\n",
       "        [0.01009455, 0.01654126],\n",
       "        [0.00820379, 0.0161621 ],\n",
       "        [0.01003968, 0.01683474],\n",
       "        [0.00724247, 0.01738522],\n",
       "        [0.0175138 , 0.01884471],\n",
       "        [0.01091235, 0.01950877],\n",
       "        [0.00878813, 0.01784212],\n",
       "        [0.01140709, 0.02149161],\n",
       "        [0.00777908, 0.0175827 ],\n",
       "        [0.01229256, 0.0175733 ],\n",
       "        [0.01443351, 0.02451918],\n",
       "        [0.01388739, 0.02337481],\n",
       "        [0.01604171, 0.02455525],\n",
       "        [0.01450995, 0.02316992],\n",
       "        [0.01410188, 0.02250607],\n",
       "        [0.01190142, 0.0198571 ],\n",
       "        [0.00883848, 0.01885999],\n",
       "        [0.01235076, 0.02188245],\n",
       "        [0.01346529, 0.02168061],\n",
       "        [0.01588525, 0.02229321],\n",
       "        [0.00810646, 0.01703883],\n",
       "        [0.00691016, 0.0129836 ],\n",
       "        [0.0047505 , 0.01242802],\n",
       "        [0.01535063, 0.01549154],\n",
       "        [0.00868355, 0.01509129],\n",
       "        [0.00890211, 0.01539583],\n",
       "        [0.00398249, 0.00884155],\n",
       "        [0.01139364, 0.02225309],\n",
       "        [0.00845387, 0.01150465],\n",
       "        [0.0188763 , 0.02360792],\n",
       "        [0.01158636, 0.02049752],\n",
       "        [0.0118686 , 0.01329358],\n",
       "        [0.01614717, 0.02109137],\n",
       "        [0.01006701, 0.01261333],\n",
       "        [0.00794072, 0.01634625],\n",
       "        [0.00682421, 0.01439576],\n",
       "        [0.0122379 , 0.02109898],\n",
       "        [0.01358992, 0.01894623],\n",
       "        [0.01156211, 0.01582428],\n",
       "        [0.01066782, 0.02225394],\n",
       "        [0.0059097 , 0.01350065],\n",
       "        [0.01756211, 0.02015502],\n",
       "        [0.0136498 , 0.01996063],\n",
       "        [0.01008275, 0.01863823],\n",
       "        [0.00930594, 0.01774856],\n",
       "        [0.01358866, 0.01612418],\n",
       "        [0.01082258, 0.0212195 ],\n",
       "        [0.01131829, 0.02073166],\n",
       "        [0.01327639, 0.01574704],\n",
       "        [0.01084695, 0.0198521 ],\n",
       "        [0.01220631, 0.01255836],\n",
       "        [0.01023069, 0.01644024],\n",
       "        [0.01975374, 0.02364961],\n",
       "        [0.00802121, 0.01805784],\n",
       "        [0.01452725, 0.02061995],\n",
       "        [0.00663144, 0.01467331],\n",
       "        [0.01311267, 0.01900816],\n",
       "        [0.01300272, 0.02295117],\n",
       "        [0.00866046, 0.0147749 ],\n",
       "        [0.00770491, 0.01439985],\n",
       "        [0.00513229, 0.0095689 ],\n",
       "        [0.00347057, 0.00727936],\n",
       "        [0.00926905, 0.01806182],\n",
       "        [0.01280161, 0.02363457],\n",
       "        [0.01190426, 0.01681321],\n",
       "        [0.0142066 , 0.02360532],\n",
       "        [0.0066592 , 0.01159523],\n",
       "        [0.01186227, 0.01779832],\n",
       "        [0.01132367, 0.01941403],\n",
       "        [0.00844932, 0.016352  ],\n",
       "        [0.00955191, 0.01740835],\n",
       "        [0.00756049, 0.01096446],\n",
       "        [0.01463119, 0.02190158],\n",
       "        [0.00964816, 0.01697558],\n",
       "        [0.01626218, 0.01636565],\n",
       "        [0.00411635, 0.01173001],\n",
       "        [0.01198232, 0.01986696],\n",
       "        [0.00732239, 0.0148667 ],\n",
       "        [0.01275963, 0.01366598],\n",
       "        [0.01490175, 0.02522576],\n",
       "        [0.00807331, 0.01111573],\n",
       "        [0.01868   , 0.01877671],\n",
       "        [0.01085805, 0.02094619],\n",
       "        [0.00961357, 0.0172184 ],\n",
       "        [0.01484678, 0.02082445],\n",
       "        [0.00777966, 0.01236366],\n",
       "        [0.0126738 , 0.02071991],\n",
       "        [0.01278742, 0.02381751],\n",
       "        [0.01185184, 0.01993453],\n",
       "        [0.00559718, 0.0141203 ],\n",
       "        [0.01189814, 0.02140457],\n",
       "        [0.00950476, 0.01659028],\n",
       "        [0.01099834, 0.01933287],\n",
       "        [0.01364441, 0.02151711],\n",
       "        [0.01340565, 0.01788684]],\n",
       "\n",
       "       [[0.01501252, 0.03249222],\n",
       "        [0.02331096, 0.04115639],\n",
       "        [0.00321068, 0.01426409],\n",
       "        [0.01282034, 0.02762646],\n",
       "        [0.012484  , 0.02194922],\n",
       "        [0.01455068, 0.02221802],\n",
       "        [0.01924405, 0.03679309],\n",
       "        [0.00786602, 0.0200073 ],\n",
       "        [0.0093035 , 0.02214698],\n",
       "        [0.01922738, 0.03607842],\n",
       "        [0.02195072, 0.02805005],\n",
       "        [0.02146303, 0.03546592],\n",
       "        [0.01525807, 0.03022054],\n",
       "        [0.01635346, 0.02800828],\n",
       "        [0.02940307, 0.03216721],\n",
       "        [0.0146103 , 0.02691656],\n",
       "        [0.01761895, 0.03154275],\n",
       "        [0.01362952, 0.03084176],\n",
       "        [0.0039099 , 0.01615571],\n",
       "        [0.0060081 , 0.01778908],\n",
       "        [0.00522007, 0.01684624],\n",
       "        [0.00480436, 0.01656328],\n",
       "        [0.01493098, 0.0323531 ],\n",
       "        [0.01956667, 0.03827715],\n",
       "        [0.01222489, 0.02551727],\n",
       "        [0.01601896, 0.02940886],\n",
       "        [0.01658396, 0.02579632],\n",
       "        [0.02570283, 0.04334398],\n",
       "        [0.02169953, 0.03621318],\n",
       "        [0.02754635, 0.04212555],\n",
       "        [0.01905832, 0.03697111],\n",
       "        [0.02831236, 0.03998879],\n",
       "        [0.0224134 , 0.0272727 ],\n",
       "        [0.03085523, 0.04685997],\n",
       "        [0.0111264 , 0.02890636],\n",
       "        [0.00851217, 0.01196238],\n",
       "        [0.01952006, 0.03589789],\n",
       "        [0.01625044, 0.03309965],\n",
       "        [0.02820101, 0.03974409],\n",
       "        [0.0199524 , 0.03691814],\n",
       "        [0.01563377, 0.03149009],\n",
       "        [0.02368608, 0.03502083],\n",
       "        [0.01854757, 0.03531721],\n",
       "        [0.02588746, 0.04212349],\n",
       "        [0.00856408, 0.02435201],\n",
       "        [0.016081  , 0.02101034],\n",
       "        [0.02051605, 0.0224959 ],\n",
       "        [0.00764256, 0.02358578],\n",
       "        [0.01390991, 0.03297323],\n",
       "        [0.02920046, 0.04406796],\n",
       "        [0.02476821, 0.03543285],\n",
       "        [0.01955142, 0.02630359],\n",
       "        [0.01413094, 0.02705826],\n",
       "        [0.00982902, 0.024851  ],\n",
       "        [0.01224526, 0.01975551],\n",
       "        [0.01124232, 0.02521607],\n",
       "        [0.00538276, 0.01613602],\n",
       "        [0.00433535, 0.0147457 ],\n",
       "        [0.00605385, 0.00875223],\n",
       "        [0.02176074, 0.03911701],\n",
       "        [0.01828413, 0.02907902],\n",
       "        [0.00366537, 0.01454008],\n",
       "        [0.02579346, 0.03172834],\n",
       "        [0.01781601, 0.03464966],\n",
       "        [0.01586594, 0.03260903],\n",
       "        [0.01741159, 0.02880666],\n",
       "        [0.01424073, 0.02005586],\n",
       "        [0.01558307, 0.02534294],\n",
       "        [0.03004955, 0.03249115],\n",
       "        [0.01440013, 0.02573246],\n",
       "        [0.01423287, 0.02883844],\n",
       "        [0.00186185, 0.00985351],\n",
       "        [0.02285332, 0.03632769],\n",
       "        [0.01669687, 0.03768209],\n",
       "        [0.00375304, 0.01686275],\n",
       "        [0.02412198, 0.03342251],\n",
       "        [0.01294735, 0.02707975],\n",
       "        [0.0221215 , 0.03603155],\n",
       "        [0.02503242, 0.04444029],\n",
       "        [0.02664148, 0.04234412],\n",
       "        [0.01792355, 0.03670612],\n",
       "        [0.01112831, 0.02774863],\n",
       "        [0.00448401, 0.01673834],\n",
       "        [0.01560236, 0.02992169],\n",
       "        [0.01317305, 0.0268585 ],\n",
       "        [0.02329862, 0.03432076],\n",
       "        [0.00852604, 0.02245515],\n",
       "        [0.02526301, 0.0397259 ],\n",
       "        [0.0095323 , 0.02589932],\n",
       "        [0.0153279 , 0.02528806],\n",
       "        [0.02157881, 0.03083761],\n",
       "        [0.0161968 , 0.02836958],\n",
       "        [0.02254705, 0.0379301 ],\n",
       "        [0.03155226, 0.04841965],\n",
       "        [0.00343664, 0.01429999],\n",
       "        [0.00836599, 0.02217654],\n",
       "        [0.01455959, 0.02975992],\n",
       "        [0.02229588, 0.03535438],\n",
       "        [0.0166001 , 0.03215777],\n",
       "        [0.014525  , 0.02496611]],\n",
       "\n",
       "       [[0.00768326, 0.02196302],\n",
       "        [0.0082233 , 0.02425425],\n",
       "        [0.00862715, 0.02225197],\n",
       "        [0.0133841 , 0.02474875],\n",
       "        [0.01105238, 0.02556213],\n",
       "        [0.00280917, 0.011855  ],\n",
       "        [0.01752625, 0.03560838],\n",
       "        [0.00866813, 0.01833026],\n",
       "        [0.01891154, 0.02659103],\n",
       "        [0.00596155, 0.01703322],\n",
       "        [0.00808868, 0.02528122],\n",
       "        [0.02026884, 0.03475105],\n",
       "        [0.03129158, 0.0409777 ],\n",
       "        [0.00656566, 0.02095997],\n",
       "        [0.00923639, 0.02506367],\n",
       "        [0.0032867 , 0.01493798],\n",
       "        [0.00702745, 0.01943848],\n",
       "        [0.01587877, 0.03474917],\n",
       "        [0.00620535, 0.02015151],\n",
       "        [0.00793723, 0.01993499],\n",
       "        [0.00603011, 0.01959418],\n",
       "        [0.00375876, 0.0144755 ],\n",
       "        [0.01718605, 0.02133634],\n",
       "        [0.00272846, 0.01171646],\n",
       "        [0.01486973, 0.02438045],\n",
       "        [0.01637201, 0.03727785],\n",
       "        [0.00789285, 0.01876384],\n",
       "        [0.00832312, 0.0219165 ],\n",
       "        [0.01219012, 0.02040349],\n",
       "        [0.00405199, 0.01707566],\n",
       "        [0.00338942, 0.01390285],\n",
       "        [0.0143381 , 0.03356019],\n",
       "        [0.01576725, 0.03404594],\n",
       "        [0.00900375, 0.01809959],\n",
       "        [0.01212956, 0.03248532],\n",
       "        [0.01266746, 0.03304221],\n",
       "        [0.01285505, 0.02879629],\n",
       "        [0.003962  , 0.01475216],\n",
       "        [0.00480851, 0.01645808],\n",
       "        [0.00498874, 0.01888058],\n",
       "        [0.0055419 , 0.01712737],\n",
       "        [0.01929796, 0.02998949],\n",
       "        [0.01416083, 0.02721015],\n",
       "        [0.00836333, 0.0221232 ],\n",
       "        [0.00852302, 0.01866579],\n",
       "        [0.00401919, 0.01449355],\n",
       "        [0.01494662, 0.03209527],\n",
       "        [0.00713569, 0.0178408 ],\n",
       "        [0.01380131, 0.03084235],\n",
       "        [0.0056525 , 0.01864734],\n",
       "        [0.01384093, 0.02976124],\n",
       "        [0.0141014 , 0.01953202],\n",
       "        [0.01278737, 0.03143284],\n",
       "        [0.01717447, 0.04298314],\n",
       "        [0.01087783, 0.01954257],\n",
       "        [0.00488252, 0.01786887],\n",
       "        [0.02130816, 0.03720425],\n",
       "        [0.01013901, 0.02539689],\n",
       "        [0.01106957, 0.02092706],\n",
       "        [0.01621438, 0.03582469],\n",
       "        [0.01132134, 0.02683113],\n",
       "        [0.00636738, 0.01978585],\n",
       "        [0.01272641, 0.01703839],\n",
       "        [0.01269484, 0.0287419 ],\n",
       "        [0.01226293, 0.02730757],\n",
       "        [0.01126709, 0.02265509],\n",
       "        [0.00549597, 0.01266216],\n",
       "        [0.013722  , 0.02687572],\n",
       "        [0.01330151, 0.03370807],\n",
       "        [0.00666431, 0.01180811],\n",
       "        [0.01319374, 0.02077346],\n",
       "        [0.00759755, 0.01959238],\n",
       "        [0.0106507 , 0.01995072],\n",
       "        [0.00710056, 0.01470701],\n",
       "        [0.00789265, 0.02301113],\n",
       "        [0.01209944, 0.02426088],\n",
       "        [0.01781287, 0.03139239],\n",
       "        [0.01352612, 0.03033024],\n",
       "        [0.01081284, 0.0192405 ],\n",
       "        [0.00279909, 0.01329377],\n",
       "        [0.00703949, 0.01942046],\n",
       "        [0.01754668, 0.03231676],\n",
       "        [0.0251223 , 0.03433773],\n",
       "        [0.01065273, 0.02105342],\n",
       "        [0.01969045, 0.03446436],\n",
       "        [0.01111676, 0.02853203],\n",
       "        [0.00876256, 0.01376374],\n",
       "        [0.00602185, 0.02127738],\n",
       "        [0.01108913, 0.02575427],\n",
       "        [0.00520073, 0.02012058],\n",
       "        [0.00698107, 0.01838998],\n",
       "        [0.00307351, 0.01470821],\n",
       "        [0.00881596, 0.02346633],\n",
       "        [0.00601599, 0.01677789],\n",
       "        [0.00771083, 0.02279647],\n",
       "        [0.01216804, 0.01477672],\n",
       "        [0.00833489, 0.00851259],\n",
       "        [0.00921207, 0.02291555],\n",
       "        [0.00503552, 0.01950773],\n",
       "        [0.01212964, 0.02815352]]])"
      ]
     },
     "execution_count": 79,
     "metadata": {},
     "output_type": "execute_result"
    }
   ],
   "source": [
    "conf_intervals"
   ]
  },
  {
   "cell_type": "code",
   "execution_count": 82,
   "id": "1ebea67fb6e11eaa",
   "metadata": {
    "ExecuteTime": {
     "end_time": "2024-02-27T19:40:19.472804Z",
     "start_time": "2024-02-27T19:40:19.438495200Z"
    },
    "collapsed": false
   },
   "outputs": [
    {
     "data": {
      "text/plain": [
       "array([0.00416417, 0.01238666, 0.01394664, 0.01211357, 0.00803274,\n",
       "       0.01009455, 0.00820379, 0.01003968, 0.00724247, 0.0175138 ,\n",
       "       0.01091235, 0.00878813, 0.01140709, 0.00777908, 0.01229256,\n",
       "       0.01443351, 0.01388739, 0.01604171, 0.01450995, 0.01410188,\n",
       "       0.01190142, 0.00883848, 0.01235076, 0.01346529, 0.01588525,\n",
       "       0.00810646, 0.00691016, 0.0047505 , 0.01535063, 0.00868355,\n",
       "       0.00890211, 0.00398249, 0.01139364, 0.00845387, 0.0188763 ,\n",
       "       0.01158636, 0.0118686 , 0.01614717, 0.01006701, 0.00794072,\n",
       "       0.00682421, 0.0122379 , 0.01358992, 0.01156211, 0.01066782,\n",
       "       0.0059097 , 0.01756211, 0.0136498 , 0.01008275, 0.00930594,\n",
       "       0.01358866, 0.01082258, 0.01131829, 0.01327639, 0.01084695,\n",
       "       0.01220631, 0.01023069, 0.01975374, 0.00802121, 0.01452725,\n",
       "       0.00663144, 0.01311267, 0.01300272, 0.00866046, 0.00770491,\n",
       "       0.00513229, 0.00347057, 0.00926905, 0.01280161, 0.01190426,\n",
       "       0.0142066 , 0.0066592 , 0.01186227, 0.01132367, 0.00844932,\n",
       "       0.00955191, 0.00756049, 0.01463119, 0.00964816, 0.01626218,\n",
       "       0.00411635, 0.01198232, 0.00732239, 0.01275963, 0.01490175,\n",
       "       0.00807331, 0.01868   , 0.01085805, 0.00961357, 0.01484678,\n",
       "       0.00777966, 0.0126738 , 0.01278742, 0.01185184, 0.00559718,\n",
       "       0.01189814, 0.00950476, 0.01099834, 0.01364441, 0.01340565,\n",
       "       0.01103343, 0.01597477, 0.01913021, 0.02023061, 0.01053541,\n",
       "       0.01654126, 0.0161621 , 0.01683474, 0.01738522, 0.01884471,\n",
       "       0.01950877, 0.01784212, 0.02149161, 0.0175827 , 0.0175733 ,\n",
       "       0.02451918, 0.02337481, 0.02455525, 0.02316992, 0.02250607,\n",
       "       0.0198571 , 0.01885999, 0.02188245, 0.02168061, 0.02229321,\n",
       "       0.01703883, 0.0129836 , 0.01242802, 0.01549154, 0.01509129,\n",
       "       0.01539583, 0.00884155, 0.02225309, 0.01150465, 0.02360792,\n",
       "       0.02049752, 0.01329358, 0.02109137, 0.01261333, 0.01634625,\n",
       "       0.01439576, 0.02109898, 0.01894623, 0.01582428, 0.02225394,\n",
       "       0.01350065, 0.02015502, 0.01996063, 0.01863823, 0.01774856,\n",
       "       0.01612418, 0.0212195 , 0.02073166, 0.01574704, 0.0198521 ,\n",
       "       0.01255836, 0.01644024, 0.02364961, 0.01805784, 0.02061995,\n",
       "       0.01467331, 0.01900816, 0.02295117, 0.0147749 , 0.01439985,\n",
       "       0.0095689 , 0.00727936, 0.01806182, 0.02363457, 0.01681321,\n",
       "       0.02360532, 0.01159523, 0.01779832, 0.01941403, 0.016352  ,\n",
       "       0.01740835, 0.01096446, 0.02190158, 0.01697558, 0.01636565,\n",
       "       0.01173001, 0.01986696, 0.0148667 , 0.01366598, 0.02522576,\n",
       "       0.01111573, 0.01877671, 0.02094619, 0.0172184 , 0.02082445,\n",
       "       0.01236366, 0.02071991, 0.02381751, 0.01993453, 0.0141203 ,\n",
       "       0.02140457, 0.01659028, 0.01933287, 0.02151711, 0.01788684])"
      ]
     },
     "execution_count": 82,
     "metadata": {},
     "output_type": "execute_result"
    }
   ],
   "source": [
    "values"
   ]
  },
  {
   "cell_type": "code",
   "execution_count": 81,
   "id": "65a1cd6b6e7fccec",
   "metadata": {
    "ExecuteTime": {
     "end_time": "2024-02-27T19:40:13.705450800Z",
     "start_time": "2024-02-27T19:40:13.662906700Z"
    },
    "collapsed": false
   },
   "outputs": [],
   "source": [
    "values = np.append(conf_intervals[0,:,0],conf_intervals[0,:,1])\n",
    "amounts = np.append(L_amount,U_amount)\n",
    "\n"
   ]
  },
  {
   "cell_type": "code",
   "execution_count": 76,
   "id": "db74bd99eb165d5c",
   "metadata": {
    "ExecuteTime": {
     "end_time": "2024-02-27T19:36:47.222932800Z",
     "start_time": "2024-02-27T19:36:46.067309600Z"
    },
    "collapsed": false
   },
   "outputs": [
    {
     "ename": "ValueError",
     "evalue": "Size mismatch between \"values\" and \"edges\". Expected `len(values) + 1 == len(edges)`, but `len(values) = 100` and `len(edges) = 100`.",
     "output_type": "error",
     "traceback": [
      "\u001b[1;31m---------------------------------------------------------------------------\u001b[0m",
      "\u001b[1;31mValueError\u001b[0m                                Traceback (most recent call last)",
      "Cell \u001b[1;32mIn[76], line 1\u001b[0m\n\u001b[1;32m----> 1\u001b[0m plt\u001b[38;5;241m.\u001b[39mstairs(conf_intervals[\u001b[38;5;241m0\u001b[39m,:,\u001b[38;5;241m0\u001b[39m],L_amount)\n",
      "File \u001b[1;32m~\\Anaconda3\\envs\\RobustnessMetric\\Lib\\site-packages\\matplotlib\\pyplot.py:2658\u001b[0m, in \u001b[0;36mstairs\u001b[1;34m(values, edges, orientation, baseline, fill, data, **kwargs)\u001b[0m\n\u001b[0;32m   2654\u001b[0m \u001b[38;5;129m@_copy_docstring_and_deprecators\u001b[39m(Axes\u001b[38;5;241m.\u001b[39mstairs)\n\u001b[0;32m   2655\u001b[0m \u001b[38;5;28;01mdef\u001b[39;00m \u001b[38;5;21mstairs\u001b[39m(\n\u001b[0;32m   2656\u001b[0m         values, edges\u001b[38;5;241m=\u001b[39m\u001b[38;5;28;01mNone\u001b[39;00m, \u001b[38;5;241m*\u001b[39m, orientation\u001b[38;5;241m=\u001b[39m\u001b[38;5;124m'\u001b[39m\u001b[38;5;124mvertical\u001b[39m\u001b[38;5;124m'\u001b[39m, baseline\u001b[38;5;241m=\u001b[39m\u001b[38;5;241m0\u001b[39m,\n\u001b[0;32m   2657\u001b[0m         fill\u001b[38;5;241m=\u001b[39m\u001b[38;5;28;01mFalse\u001b[39;00m, data\u001b[38;5;241m=\u001b[39m\u001b[38;5;28;01mNone\u001b[39;00m, \u001b[38;5;241m*\u001b[39m\u001b[38;5;241m*\u001b[39mkwargs):\n\u001b[1;32m-> 2658\u001b[0m     \u001b[38;5;28;01mreturn\u001b[39;00m gca()\u001b[38;5;241m.\u001b[39mstairs(\n\u001b[0;32m   2659\u001b[0m         values, edges\u001b[38;5;241m=\u001b[39medges, orientation\u001b[38;5;241m=\u001b[39morientation,\n\u001b[0;32m   2660\u001b[0m         baseline\u001b[38;5;241m=\u001b[39mbaseline, fill\u001b[38;5;241m=\u001b[39mfill,\n\u001b[0;32m   2661\u001b[0m         \u001b[38;5;241m*\u001b[39m\u001b[38;5;241m*\u001b[39m({\u001b[38;5;124m\"\u001b[39m\u001b[38;5;124mdata\u001b[39m\u001b[38;5;124m\"\u001b[39m: data} \u001b[38;5;28;01mif\u001b[39;00m data \u001b[38;5;129;01mis\u001b[39;00m \u001b[38;5;129;01mnot\u001b[39;00m \u001b[38;5;28;01mNone\u001b[39;00m \u001b[38;5;28;01melse\u001b[39;00m {}), \u001b[38;5;241m*\u001b[39m\u001b[38;5;241m*\u001b[39mkwargs)\n",
      "File \u001b[1;32m~\\Anaconda3\\envs\\RobustnessMetric\\Lib\\site-packages\\matplotlib\\__init__.py:1461\u001b[0m, in \u001b[0;36m_preprocess_data.<locals>.inner\u001b[1;34m(ax, data, *args, **kwargs)\u001b[0m\n\u001b[0;32m   1458\u001b[0m \u001b[38;5;129m@functools\u001b[39m\u001b[38;5;241m.\u001b[39mwraps(func)\n\u001b[0;32m   1459\u001b[0m \u001b[38;5;28;01mdef\u001b[39;00m \u001b[38;5;21minner\u001b[39m(ax, \u001b[38;5;241m*\u001b[39margs, data\u001b[38;5;241m=\u001b[39m\u001b[38;5;28;01mNone\u001b[39;00m, \u001b[38;5;241m*\u001b[39m\u001b[38;5;241m*\u001b[39mkwargs):\n\u001b[0;32m   1460\u001b[0m     \u001b[38;5;28;01mif\u001b[39;00m data \u001b[38;5;129;01mis\u001b[39;00m \u001b[38;5;28;01mNone\u001b[39;00m:\n\u001b[1;32m-> 1461\u001b[0m         \u001b[38;5;28;01mreturn\u001b[39;00m func(ax, \u001b[38;5;241m*\u001b[39m\u001b[38;5;28mmap\u001b[39m(sanitize_sequence, args), \u001b[38;5;241m*\u001b[39m\u001b[38;5;241m*\u001b[39mkwargs)\n\u001b[0;32m   1463\u001b[0m     bound \u001b[38;5;241m=\u001b[39m new_sig\u001b[38;5;241m.\u001b[39mbind(ax, \u001b[38;5;241m*\u001b[39margs, \u001b[38;5;241m*\u001b[39m\u001b[38;5;241m*\u001b[39mkwargs)\n\u001b[0;32m   1464\u001b[0m     auto_label \u001b[38;5;241m=\u001b[39m (bound\u001b[38;5;241m.\u001b[39marguments\u001b[38;5;241m.\u001b[39mget(label_namer)\n\u001b[0;32m   1465\u001b[0m                   \u001b[38;5;129;01mor\u001b[39;00m bound\u001b[38;5;241m.\u001b[39mkwargs\u001b[38;5;241m.\u001b[39mget(label_namer))\n",
      "File \u001b[1;32m~\\Anaconda3\\envs\\RobustnessMetric\\Lib\\site-packages\\matplotlib\\axes\\_axes.py:7017\u001b[0m, in \u001b[0;36mAxes.stairs\u001b[1;34m(self, values, edges, orientation, baseline, fill, **kwargs)\u001b[0m\n\u001b[0;32m   7012\u001b[0m     edges \u001b[38;5;241m=\u001b[39m np\u001b[38;5;241m.\u001b[39marange(\u001b[38;5;28mlen\u001b[39m(values) \u001b[38;5;241m+\u001b[39m \u001b[38;5;241m1\u001b[39m)\n\u001b[0;32m   7014\u001b[0m edges, values, baseline \u001b[38;5;241m=\u001b[39m \u001b[38;5;28mself\u001b[39m\u001b[38;5;241m.\u001b[39m_process_unit_info(\n\u001b[0;32m   7015\u001b[0m     [(\u001b[38;5;124m\"\u001b[39m\u001b[38;5;124mx\u001b[39m\u001b[38;5;124m\"\u001b[39m, edges), (\u001b[38;5;124m\"\u001b[39m\u001b[38;5;124my\u001b[39m\u001b[38;5;124m\"\u001b[39m, values), (\u001b[38;5;124m\"\u001b[39m\u001b[38;5;124my\u001b[39m\u001b[38;5;124m\"\u001b[39m, baseline)], kwargs)\n\u001b[1;32m-> 7017\u001b[0m patch \u001b[38;5;241m=\u001b[39m mpatches\u001b[38;5;241m.\u001b[39mStepPatch(values,\n\u001b[0;32m   7018\u001b[0m                            edges,\n\u001b[0;32m   7019\u001b[0m                            baseline\u001b[38;5;241m=\u001b[39mbaseline,\n\u001b[0;32m   7020\u001b[0m                            orientation\u001b[38;5;241m=\u001b[39morientation,\n\u001b[0;32m   7021\u001b[0m                            fill\u001b[38;5;241m=\u001b[39mfill,\n\u001b[0;32m   7022\u001b[0m                            \u001b[38;5;241m*\u001b[39m\u001b[38;5;241m*\u001b[39mkwargs)\n\u001b[0;32m   7023\u001b[0m \u001b[38;5;28mself\u001b[39m\u001b[38;5;241m.\u001b[39madd_patch(patch)\n\u001b[0;32m   7024\u001b[0m \u001b[38;5;28;01mif\u001b[39;00m baseline \u001b[38;5;129;01mis\u001b[39;00m \u001b[38;5;28;01mNone\u001b[39;00m:\n",
      "File \u001b[1;32m~\\Anaconda3\\envs\\RobustnessMetric\\Lib\\site-packages\\matplotlib\\patches.py:1003\u001b[0m, in \u001b[0;36mStepPatch.__init__\u001b[1;34m(self, values, edges, orientation, baseline, **kwargs)\u001b[0m\n\u001b[0;32m   1001\u001b[0m \u001b[38;5;28mself\u001b[39m\u001b[38;5;241m.\u001b[39m_values \u001b[38;5;241m=\u001b[39m np\u001b[38;5;241m.\u001b[39masarray(values)\n\u001b[0;32m   1002\u001b[0m \u001b[38;5;28mself\u001b[39m\u001b[38;5;241m.\u001b[39m_baseline \u001b[38;5;241m=\u001b[39m np\u001b[38;5;241m.\u001b[39masarray(baseline) \u001b[38;5;28;01mif\u001b[39;00m baseline \u001b[38;5;129;01mis\u001b[39;00m \u001b[38;5;129;01mnot\u001b[39;00m \u001b[38;5;28;01mNone\u001b[39;00m \u001b[38;5;28;01melse\u001b[39;00m \u001b[38;5;28;01mNone\u001b[39;00m\n\u001b[1;32m-> 1003\u001b[0m \u001b[38;5;28mself\u001b[39m\u001b[38;5;241m.\u001b[39m_update_path()\n\u001b[0;32m   1004\u001b[0m \u001b[38;5;28msuper\u001b[39m()\u001b[38;5;241m.\u001b[39m\u001b[38;5;21m__init__\u001b[39m(\u001b[38;5;28mself\u001b[39m\u001b[38;5;241m.\u001b[39m_path, \u001b[38;5;241m*\u001b[39m\u001b[38;5;241m*\u001b[39mkwargs)\n",
      "File \u001b[1;32m~\\Anaconda3\\envs\\RobustnessMetric\\Lib\\site-packages\\matplotlib\\patches.py:1010\u001b[0m, in \u001b[0;36mStepPatch._update_path\u001b[1;34m(self)\u001b[0m\n\u001b[0;32m   1008\u001b[0m     \u001b[38;5;28;01mraise\u001b[39;00m \u001b[38;5;167;01mValueError\u001b[39;00m(\u001b[38;5;124m'\u001b[39m\u001b[38;5;124mNan values in \u001b[39m\u001b[38;5;124m\"\u001b[39m\u001b[38;5;124medges\u001b[39m\u001b[38;5;124m\"\u001b[39m\u001b[38;5;124m are disallowed\u001b[39m\u001b[38;5;124m'\u001b[39m)\n\u001b[0;32m   1009\u001b[0m \u001b[38;5;28;01mif\u001b[39;00m \u001b[38;5;28mself\u001b[39m\u001b[38;5;241m.\u001b[39m_edges\u001b[38;5;241m.\u001b[39msize \u001b[38;5;241m-\u001b[39m \u001b[38;5;241m1\u001b[39m \u001b[38;5;241m!=\u001b[39m \u001b[38;5;28mself\u001b[39m\u001b[38;5;241m.\u001b[39m_values\u001b[38;5;241m.\u001b[39msize:\n\u001b[1;32m-> 1010\u001b[0m     \u001b[38;5;28;01mraise\u001b[39;00m \u001b[38;5;167;01mValueError\u001b[39;00m(\u001b[38;5;124m'\u001b[39m\u001b[38;5;124mSize mismatch between \u001b[39m\u001b[38;5;124m\"\u001b[39m\u001b[38;5;124mvalues\u001b[39m\u001b[38;5;124m\"\u001b[39m\u001b[38;5;124m and \u001b[39m\u001b[38;5;124m\"\u001b[39m\u001b[38;5;124medges\u001b[39m\u001b[38;5;124m\"\u001b[39m\u001b[38;5;124m. \u001b[39m\u001b[38;5;124m'\u001b[39m\n\u001b[0;32m   1011\u001b[0m                      \u001b[38;5;124m\"\u001b[39m\u001b[38;5;124mExpected `len(values) + 1 == len(edges)`, but \u001b[39m\u001b[38;5;124m\"\u001b[39m\n\u001b[0;32m   1012\u001b[0m                      \u001b[38;5;124mf\u001b[39m\u001b[38;5;124m\"\u001b[39m\u001b[38;5;124m`len(values) = \u001b[39m\u001b[38;5;132;01m{\u001b[39;00m\u001b[38;5;28mself\u001b[39m\u001b[38;5;241m.\u001b[39m_values\u001b[38;5;241m.\u001b[39msize\u001b[38;5;132;01m}\u001b[39;00m\u001b[38;5;124m` and \u001b[39m\u001b[38;5;124m\"\u001b[39m\n\u001b[0;32m   1013\u001b[0m                      \u001b[38;5;124mf\u001b[39m\u001b[38;5;124m\"\u001b[39m\u001b[38;5;124m`len(edges) = \u001b[39m\u001b[38;5;132;01m{\u001b[39;00m\u001b[38;5;28mself\u001b[39m\u001b[38;5;241m.\u001b[39m_edges\u001b[38;5;241m.\u001b[39msize\u001b[38;5;132;01m}\u001b[39;00m\u001b[38;5;124m`.\u001b[39m\u001b[38;5;124m\"\u001b[39m)\n\u001b[0;32m   1014\u001b[0m \u001b[38;5;66;03m# Initializing with empty arrays allows supporting empty stairs.\u001b[39;00m\n\u001b[0;32m   1015\u001b[0m verts, codes \u001b[38;5;241m=\u001b[39m [np\u001b[38;5;241m.\u001b[39mempty((\u001b[38;5;241m0\u001b[39m, \u001b[38;5;241m2\u001b[39m))], [np\u001b[38;5;241m.\u001b[39mempty(\u001b[38;5;241m0\u001b[39m, dtype\u001b[38;5;241m=\u001b[39mPath\u001b[38;5;241m.\u001b[39mcode_type)]\n",
      "\u001b[1;31mValueError\u001b[0m: Size mismatch between \"values\" and \"edges\". Expected `len(values) + 1 == len(edges)`, but `len(values) = 100` and `len(edges) = 100`."
     ]
    },
    {
     "data": {
      "image/png": "[encoded data removed]",
      "text/plain": [
       "<Figure size 640x480 with 1 Axes>"
      ]
     },
     "metadata": {},
     "output_type": "display_data"
    }
   ],
   "source": [
    "plt.stairs(conf_intervals[0,:,0],L_amount)"
   ]
  },
  {
   "cell_type": "code",
   "execution_count": null,
   "id": "113bd62c87228270",
   "metadata": {
    "collapsed": false
   },
   "outputs": [],
   "source": []
  }
 ],
 "metadata": {
  "kernelspec": {
   "display_name": "Python 3",
   "language": "python",
   "name": "python3"
  },
  "language_info": {
   "codemirror_mode": {
    "name": "ipython",
    "version": 2
   },
   "file_extension": ".py",
   "mimetype": "text/x-python",
   "name": "python",
   "nbconvert_exporter": "python",
   "pygments_lexer": "ipython2",
   "version": "2.7.6"
  }
 },
 "nbformat": 4,
 "nbformat_minor": 5
}

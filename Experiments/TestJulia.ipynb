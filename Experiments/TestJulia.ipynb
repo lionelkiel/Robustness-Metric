{
 "cells": [
  {
   "cell_type": "code",
   "execution_count": 5,
   "metadata": {},
   "outputs": [
    {
     "name": "stdout",
     "output_type": "stream",
     "text": [
      "empty, unsat 381 mnist-net\n",
      "empty, unsat 507 mnist-net\n",
      "empty, unsat 447 mnist-net_256x4\n",
      "empty, unsat 726 mnist-net_256x4\n",
      "empty, unsat 810 mnist-net_256x4\n",
      "empty, unsat 750 mnist_relu_4_1024\n",
      "empty, sat 750 mnist_relu_4_1024\n",
      "empty, unsat 456 mnist_relu_4_1024\n"
     ]
    }
   ],
   "source": [
    "using RxInfer\n",
    "using Plots\n",
    "using CSV\n",
    "using DataFrames\n",
    "\n",
    "# import ImportDataset.jl from Helper\n",
    "include(\"c:/Users/lkiel/PycharmProjects/RobustnessMetric/Helper/ImportDataset.jl\")"
   ]
  },
  {
   "cell_type": "code",
   "execution_count": null,
   "metadata": {},
   "outputs": [],
   "source": []
  }
 ],
 "metadata": {
  "kernelspec": {
   "display_name": "Julia 1.10.3",
   "language": "julia",
   "name": "julia-1.10"
  },
  "language_info": {
   "file_extension": ".jl",
   "mimetype": "application/julia",
   "name": "julia",
   "version": "1.10.3"
  }
 },
 "nbformat": 4,
 "nbformat_minor": 2
}
